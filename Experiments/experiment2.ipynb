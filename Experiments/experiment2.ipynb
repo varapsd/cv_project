{
  "nbformat": 4,
  "nbformat_minor": 0,
  "metadata": {
    "colab": {
      "name": "experiment2.ipynb",
      "provenance": [],
      "collapsed_sections": []
    },
    "kernelspec": {
      "name": "python3",
      "display_name": "Python 3"
    },
    "language_info": {
      "name": "python"
    }
  },
  "cells": [
    {
      "cell_type": "code",
      "metadata": {
        "id": "fzVS0Mgemkez"
      },
      "source": [
        "from keras import models\n",
        "from keras.models import load_model"
      ],
      "execution_count": null,
      "outputs": []
    },
    {
      "cell_type": "code",
      "metadata": {
        "colab": {
          "base_uri": "https://localhost:8080/"
        },
        "id": "mSYbS0H0LLXt",
        "outputId": "856e103e-3917-4564-e02b-bfc4996ac4b7"
      },
      "source": [
        "from google.colab import drive\n",
        "drive.mount('/content/drive')"
      ],
      "execution_count": null,
      "outputs": [
        {
          "output_type": "stream",
          "name": "stdout",
          "text": [
            "Drive already mounted at /content/drive; to attempt to forcibly remount, call drive.mount(\"/content/drive\", force_remount=True).\n"
          ]
        }
      ]
    },
    {
      "cell_type": "code",
      "metadata": {
        "id": "I443kya1yj1v"
      },
      "source": [
        ""
      ],
      "execution_count": null,
      "outputs": []
    },
    {
      "cell_type": "code",
      "metadata": {
        "colab": {
          "base_uri": "https://localhost:8080/"
        },
        "id": "S4iJ6zlGrG9P",
        "outputId": "1c9a1484-9c8e-4b75-ebe9-7f24a4d2640c"
      },
      "source": [
        "!sudo pip3 install mtcnn"
      ],
      "execution_count": null,
      "outputs": [
        {
          "output_type": "stream",
          "name": "stdout",
          "text": [
            "Collecting mtcnn\n",
            "  Downloading mtcnn-0.1.1-py3-none-any.whl (2.3 MB)\n",
            "\u001b[K     |████████████████████████████████| 2.3 MB 17.1 MB/s \n",
            "\u001b[?25hRequirement already satisfied: opencv-python>=4.1.0 in /usr/local/lib/python3.7/dist-packages (from mtcnn) (4.1.2.30)\n",
            "Requirement already satisfied: keras>=2.0.0 in /usr/local/lib/python3.7/dist-packages (from mtcnn) (2.7.0)\n",
            "Requirement already satisfied: numpy>=1.14.5 in /usr/local/lib/python3.7/dist-packages (from opencv-python>=4.1.0->mtcnn) (1.19.5)\n",
            "Installing collected packages: mtcnn\n",
            "Successfully installed mtcnn-0.1.1\n"
          ]
        }
      ]
    },
    {
      "cell_type": "code",
      "metadata": {
        "id": "5lwcqfVRrcFk"
      },
      "source": [
        ""
      ],
      "execution_count": null,
      "outputs": []
    },
    {
      "cell_type": "code",
      "metadata": {
        "id": "doRDdJVsrxre"
      },
      "source": [
        " "
      ],
      "execution_count": null,
      "outputs": []
    },
    {
      "cell_type": "code",
      "metadata": {
        "id": "WIVq6X404NUm"
      },
      "source": [
        "import os\n",
        "from PIL import *\n",
        "from numpy import asarray\n",
        "from matplotlib import pyplot\n",
        "from mtcnn.mtcnn import MTCNN\n",
        "import numpy"
      ],
      "execution_count": null,
      "outputs": []
    },
    {
      "cell_type": "code",
      "metadata": {
        "id": "LdoVtSlx_Jzi"
      },
      "source": [
        ""
      ],
      "execution_count": null,
      "outputs": []
    },
    {
      "cell_type": "code",
      "metadata": {
        "id": "sNzwaQ2_4Qw-"
      },
      "source": [
        "def extract_face(filename, required_size=(160, 160)):\n",
        "\t# load image from file\n",
        "\timage = Image.open(filename)\n",
        "\t# convert to RGB, if needed\n",
        "\timage = image.convert('RGB')\n",
        "\t# convert to array\n",
        "\tpixels = asarray(image)\n",
        "\t# create the detector, using default weights\n",
        "\tdetector = MTCNN()\n",
        "\t# detect faces in the image\n",
        "\tresults = detector.detect_faces(pixels)\n",
        "\t# extract the bounding box from the first face\n",
        "\tx1, y1, width, height = results[0]['box']\n",
        "\t# bug fix\n",
        "\tx1, y1 = abs(x1), abs(y1)\n",
        "\tx2, y2 = x1 + width, y1 + height\n",
        "\t# extract the face\n",
        "\tface = pixels[y1:y2, x1:x2]\n",
        "\t# resize pixels to the model size\n",
        "\timage = Image.fromarray(face)\n",
        "\timage = image.resize(required_size)\n",
        "\tface_array = asarray(image)\n",
        "\treturn face_array"
      ],
      "execution_count": null,
      "outputs": []
    },
    {
      "cell_type": "code",
      "metadata": {
        "id": "la-Lu7R6GmRb"
      },
      "source": [
        "def load_faces(directory):\n",
        "\tfaces = list()\n",
        "\t# enumerate files\n",
        "\tfor filename in os.listdir(directory):\n",
        "\t\t# path\n",
        "\t\tpath = directory + filename\n",
        "\t\t# get face\n",
        "\t\tface = extract_face(path)\n",
        "\t\t# store\n",
        "\t\tfaces.append(face)\n",
        "\treturn faces"
      ],
      "execution_count": null,
      "outputs": []
    },
    {
      "cell_type": "code",
      "metadata": {
        "id": "k5EtPF4iGulD"
      },
      "source": [
        "# load a dataset that contains one subdir for each class that in turn contains images\n",
        "def load_dataset(directory):\n",
        "\tX, y = list(), list()\n",
        "\t# enumerate folders, on per class\n",
        "\tfor subdir in os.listdir(directory):\n",
        "\t\t# path\n",
        "\t\tpath = directory + subdir + '/'\n",
        "\t\t# skip any files that might be in the dir\n",
        "\t\tif not os.path.isdir(path):\n",
        "\t\t\tcontinue\n",
        "\t\t# load all faces in the subdirectory\n",
        "\t\tfaces = load_faces(path)\n",
        "\t\t# create labels\n",
        "\t\tlabels = [subdir for _ in range(len(faces))]\n",
        "\t\t# summarize progress\n",
        "\t\tprint('>loaded %d examples for class: %s' % (len(faces), subdir))\n",
        "\t\t# store\n",
        "\t\tX.extend(faces)\n",
        "\t\ty.extend(labels)\n",
        "\treturn asarray(X), asarray(y)"
      ],
      "execution_count": null,
      "outputs": []
    },
    {
      "cell_type": "code",
      "metadata": {
        "colab": {
          "base_uri": "https://localhost:8080/"
        },
        "id": "L2N-sAwYG04m",
        "outputId": "18a8141c-9fca-4910-b700-54d053c63307"
      },
      "source": [
        "# load train dataset\n",
        "trainX, trainy = load_dataset('/content/drive/MyDrive/metest/Dataset_celeb/train/')\n",
        "print(trainX.shape, trainy.shape)\n",
        "# load test dataset\n",
        "testX, testy = load_dataset('/content/drive/MyDrive/metest/Dataset_celeb/test/')\n",
        "print(testX.shape, testy.shape)\n",
        "# save arrays to one file in compressed format\n",
        "#savez_compressed('/content/drive/MyDrive/metest/data/5-celebrity-faces-dataset.npz', trainX, trainy, testX, testy)"
      ],
      "execution_count": null,
      "outputs": [
        {
          "output_type": "stream",
          "name": "stdout",
          "text": [
            "WARNING:tensorflow:5 out of the last 13 calls to <function Model.make_predict_function.<locals>.predict_function at 0x7f8994c26050> triggered tf.function retracing. Tracing is expensive and the excessive number of tracings could be due to (1) creating @tf.function repeatedly in a loop, (2) passing tensors with different shapes, (3) passing Python objects instead of tensors. For (1), please define your @tf.function outside of the loop. For (2), @tf.function has experimental_relax_shapes=True option that relaxes argument shapes that can avoid unnecessary retracing. For (3), please refer to https://www.tensorflow.org/guide/function#controlling_retracing and https://www.tensorflow.org/api_docs/python/tf/function for  more details.\n",
            "WARNING:tensorflow:6 out of the last 14 calls to <function Model.make_predict_function.<locals>.predict_function at 0x7f8994c26050> triggered tf.function retracing. Tracing is expensive and the excessive number of tracings could be due to (1) creating @tf.function repeatedly in a loop, (2) passing tensors with different shapes, (3) passing Python objects instead of tensors. For (1), please define your @tf.function outside of the loop. For (2), @tf.function has experimental_relax_shapes=True option that relaxes argument shapes that can avoid unnecessary retracing. For (3), please refer to https://www.tensorflow.org/guide/function#controlling_retracing and https://www.tensorflow.org/api_docs/python/tf/function for  more details.\n",
            ">loaded 10 examples for class: Vicky_Kaushal\n",
            ">loaded 10 examples for class: Uday_Chopra\n",
            ">loaded 10 examples for class: Vaani_Kapoor\n",
            ">loaded 10 examples for class: Vivek_Oberoi\n",
            ">loaded 10 examples for class: Tiger_Shroff\n",
            ">loaded 10 examples for class: Tusshar_Kapoor\n",
            ">loaded 10 examples for class: Vidya_Balan\n",
            ">loaded 10 examples for class: Yami_Gautam\n",
            ">loaded 10 examples for class: Varun_Dhawan\n",
            ">loaded 10 examples for class: Zareen_Khan\n",
            ">loaded 12 examples for class: Sonam_Kapoor\n",
            ">loaded 10 examples for class: Taapsee_Pannu\n",
            ">loaded 10 examples for class: Sunny_Deol\n",
            ">loaded 10 examples for class: Suniel_Shetty\n",
            ">loaded 10 examples for class: Sidharth_Malhotra\n",
            ">loaded 10 examples for class: Tamannaah_Bhatia\n",
            ">loaded 10 examples for class: Tabu\n",
            ">loaded 10 examples for class: Sushant_Singh_Rajput\n",
            ">loaded 10 examples for class: Shruti_Haasan\n",
            ">loaded 15 examples for class: Sonakshi_Sinha\n",
            ">loaded 10 examples for class: Sanjay_Dutt\n",
            ">loaded 10 examples for class: Shraddha_Kapoor\n",
            ">loaded 10 examples for class: Shilpa_Shetty\n",
            ">loaded 10 examples for class: Shah_Rukh_Khan\n",
            ">loaded 10 examples for class: Shahid_Kapoor\n",
            ">loaded 4 examples for class: Shreyas_Talpade\n",
            ">loaded 10 examples for class: Saif_Ali_Khan\n",
            ">loaded 10 examples for class: R_Madhavan\n",
            ">loaded 10 examples for class: Sara_Ali_Khan\n",
            ">loaded 10 examples for class: Salman_Khan\n",
            ">loaded 10 examples for class: Priyanka_Chopra\n",
            ">loaded 10 examples for class: Richa_Chadda\n",
            ">loaded 10 examples for class: Prachi_Desai\n",
            ">loaded 10 examples for class: Preity_Zinta\n",
            ">loaded 10 examples for class: Ranbir_Kapoor\n",
            ">loaded 10 examples for class: Rani_Mukerji\n",
            ">loaded 10 examples for class: Rajkummar_Rao\n",
            ">loaded 10 examples for class: Randeep_Hooda\n",
            ">loaded 10 examples for class: Ranveer_Singh\n",
            ">loaded 10 examples for class: Riteish_Deshmukh\n",
            ">loaded 10 examples for class: Parineeti_Chopra\n",
            ">loaded 10 examples for class: Pooja_Hegde\n",
            ">loaded 10 examples for class: Naseeruddin_Shah\n",
            ">loaded 11 examples for class: Nana_Patekar\n",
            ">loaded 10 examples for class: Nargis_Fakhri\n",
            ">loaded 15 examples for class: Mrunal_Thakur\n",
            ">loaded 14 examples for class: Paresh_Rawal\n",
            ">loaded 11 examples for class: Nushrat_Bharucha\n",
            ">loaded 17 examples for class: Manoj_Bajpayee\n",
            ">loaded 10 examples for class: Prabhas\n",
            ">loaded 12 examples for class: Karisma_Kapoor\n",
            ">loaded 10 examples for class: Kriti_Kharbanda\n",
            ">loaded 10 examples for class: Kunal_Khemu\n",
            ">loaded 10 examples for class: Lara_Dutta\n",
            ">loaded 10 examples for class: Kiara_Advani\n",
            ">loaded 10 examples for class: Kartik_Aaryan\n",
            ">loaded 10 examples for class: Katrina_Kaif\n",
            ">loaded 13 examples for class: Kareena_Kapoor\n",
            ">loaded 10 examples for class: Kriti_Sanon\n",
            ">loaded 14 examples for class: Madhuri_Dixit\n",
            ">loaded 10 examples for class: Ileana\n",
            ">loaded 10 examples for class: Irrfan_Khan\n",
            ">loaded 10 examples for class: Jacqueline_Fernandez\n",
            ">loaded 12 examples for class: Kangana_Ranaut\n",
            ">loaded 10 examples for class: Kajal_Aggarwal\n",
            ">loaded 10 examples for class: John_Abraham\n",
            ">loaded 10 examples for class: Kajol\n",
            ">loaded 10 examples for class: Juhi_Chawla\n",
            ">loaded 10 examples for class: Huma_Qureshi\n",
            ">loaded 10 examples for class: Hrithik_Roshan\n",
            ">loaded 10 examples for class: Govinda\n",
            ">loaded 10 examples for class: Deepika_Padukone\n",
            ">loaded 10 examples for class: Emraan_Hashmi\n",
            ">loaded 10 examples for class: Bipasha_Basu\n",
            ">loaded 10 examples for class: Esha_Gupta\n",
            ">loaded 10 examples for class: Ayushmann_Khurrana\n",
            ">loaded 10 examples for class: Farhan_Akhtar\n",
            ">loaded 10 examples for class: Disha_Patani\n",
            ">loaded 10 examples for class: Bobby_Deol\n",
            ">loaded 10 examples for class: Bhumi_Pednekar\n",
            ">loaded 10 examples for class: Arjun_Rampal\n",
            ">loaded 10 examples for class: Anil_Kapoor\n",
            ">loaded 10 examples for class: Anushka_Sharma\n",
            ">loaded 10 examples for class: Amitabh_Bachchan\n",
            ">loaded 10 examples for class: Anushka_Shetty\n",
            ">loaded 10 examples for class: Arjun_Kapoor\n",
            ">loaded 10 examples for class: Arshad_Warsi\n",
            ">loaded 10 examples for class: Asin\n",
            ">loaded 10 examples for class: Amy_Jackson\n",
            ">loaded 10 examples for class: Amrita_Rao\n",
            ">loaded 10 examples for class: Akshay_Kumar\n",
            ">loaded 10 examples for class: Aftab_Shivdasani\n",
            ">loaded 10 examples for class: Akshaye_Khanna\n",
            ">loaded 10 examples for class: Alia_Bhatt\n",
            ">loaded 10 examples for class: Abhishek_Bachchan\n",
            ">loaded 10 examples for class: Ameesha_Patel\n",
            ">loaded 10 examples for class: Aamir_Khan\n",
            ">loaded 10 examples for class: Ajay_Devgn\n",
            ">loaded 10 examples for class: Aishwarya_Rai\n",
            ">loaded 10 examples for class: Abhay_Deol\n",
            "(1030, 160, 160, 3) (1030,)\n",
            ">loaded 5 examples for class: Vicky_Kaushal\n",
            ">loaded 5 examples for class: Uday_Chopra\n",
            ">loaded 5 examples for class: Vaani_Kapoor\n",
            ">loaded 5 examples for class: Vivek_Oberoi\n",
            ">loaded 5 examples for class: Tiger_Shroff\n",
            ">loaded 5 examples for class: Tusshar_Kapoor\n",
            ">loaded 5 examples for class: Vidya_Balan\n",
            ">loaded 5 examples for class: Yami_Gautam\n",
            ">loaded 5 examples for class: Varun_Dhawan\n",
            ">loaded 5 examples for class: Zareen_Khan\n",
            ">loaded 5 examples for class: Sonam_Kapoor\n",
            ">loaded 5 examples for class: Taapsee_Pannu\n",
            ">loaded 5 examples for class: Sunny_Deol\n",
            ">loaded 5 examples for class: Suniel_Shetty\n",
            ">loaded 5 examples for class: Sidharth_Malhotra\n",
            ">loaded 5 examples for class: Tamannaah_Bhatia\n",
            ">loaded 5 examples for class: Tabu\n",
            ">loaded 5 examples for class: Sushant_Singh_Rajput\n",
            ">loaded 5 examples for class: Shruti_Haasan\n",
            ">loaded 7 examples for class: Sonakshi_Sinha\n",
            ">loaded 5 examples for class: Sanjay_Dutt\n",
            ">loaded 5 examples for class: Shraddha_Kapoor\n",
            ">loaded 5 examples for class: Shilpa_Shetty\n",
            ">loaded 5 examples for class: Shah_Rukh_Khan\n",
            ">loaded 5 examples for class: Shahid_Kapoor\n",
            ">loaded 1 examples for class: Shreyas_Talpade\n",
            ">loaded 5 examples for class: Saif_Ali_Khan\n",
            ">loaded 5 examples for class: R_Madhavan\n",
            ">loaded 5 examples for class: Sara_Ali_Khan\n",
            ">loaded 5 examples for class: Salman_Khan\n",
            ">loaded 5 examples for class: Priyanka_Chopra\n",
            ">loaded 5 examples for class: Richa_Chadda\n",
            ">loaded 5 examples for class: Prachi_Desai\n",
            ">loaded 5 examples for class: Preity_Zinta\n",
            ">loaded 5 examples for class: Ranbir_Kapoor\n",
            ">loaded 5 examples for class: Rani_Mukerji\n",
            ">loaded 5 examples for class: Rajkummar_Rao\n",
            ">loaded 5 examples for class: Randeep_Hooda\n",
            ">loaded 5 examples for class: Ranveer_Singh\n",
            ">loaded 5 examples for class: Riteish_Deshmukh\n",
            ">loaded 5 examples for class: Parineeti_Chopra\n",
            ">loaded 5 examples for class: Pooja_Hegde\n",
            ">loaded 5 examples for class: Naseeruddin_Shah\n",
            ">loaded 5 examples for class: Nana_Patekar\n",
            ">loaded 5 examples for class: Nargis_Fakhri\n",
            ">loaded 7 examples for class: Mrunal_Thakur\n",
            ">loaded 6 examples for class: Paresh_Rawal\n",
            ">loaded 5 examples for class: Nushrat_Bharucha\n",
            ">loaded 8 examples for class: Manoj_Bajpayee\n",
            ">loaded 5 examples for class: Prabhas\n",
            ">loaded 6 examples for class: Karisma_Kapoor\n",
            ">loaded 5 examples for class: Kriti_Kharbanda\n",
            ">loaded 5 examples for class: Kunal_Khemu\n",
            ">loaded 5 examples for class: Lara_Dutta\n",
            ">loaded 5 examples for class: Kiara_Advani\n",
            ">loaded 5 examples for class: Kartik_Aaryan\n",
            ">loaded 5 examples for class: Katrina_Kaif\n",
            ">loaded 6 examples for class: Kareena_Kapoor\n",
            ">loaded 5 examples for class: Kriti_Sanon\n",
            ">loaded 6 examples for class: Madhuri_Dixit\n",
            ">loaded 5 examples for class: Ileana\n",
            ">loaded 5 examples for class: Irrfan_Khan\n",
            ">loaded 5 examples for class: Jacqueline_Fernandez\n",
            ">loaded 6 examples for class: Kangana_Ranaut\n",
            ">loaded 5 examples for class: Kajal_Aggarwal\n",
            ">loaded 5 examples for class: John_Abraham\n",
            ">loaded 5 examples for class: Kajol\n",
            ">loaded 5 examples for class: Juhi_Chawla\n",
            ">loaded 5 examples for class: Huma_Qureshi\n",
            ">loaded 5 examples for class: Hrithik_Roshan\n",
            ">loaded 5 examples for class: Govinda\n",
            ">loaded 5 examples for class: Deepika_Padukone\n",
            ">loaded 5 examples for class: Emraan_Hashmi\n",
            ">loaded 5 examples for class: Bipasha_Basu\n",
            ">loaded 5 examples for class: Esha_Gupta\n",
            ">loaded 5 examples for class: Ayushmann_Khurrana\n",
            ">loaded 5 examples for class: Farhan_Akhtar\n",
            ">loaded 5 examples for class: Disha_Patani\n",
            ">loaded 5 examples for class: Bobby_Deol\n",
            ">loaded 5 examples for class: Bhumi_Pednekar\n",
            ">loaded 5 examples for class: Arjun_Rampal\n",
            ">loaded 5 examples for class: Anil_Kapoor\n",
            ">loaded 5 examples for class: Anushka_Sharma\n",
            ">loaded 5 examples for class: Amitabh_Bachchan\n",
            ">loaded 5 examples for class: Anushka_Shetty\n",
            ">loaded 5 examples for class: Arjun_Kapoor\n",
            ">loaded 5 examples for class: Arshad_Warsi\n",
            ">loaded 5 examples for class: Asin\n",
            ">loaded 5 examples for class: Amy_Jackson\n",
            ">loaded 5 examples for class: Amrita_Rao\n",
            ">loaded 5 examples for class: Akshay_Kumar\n",
            ">loaded 5 examples for class: Aftab_Shivdasani\n",
            ">loaded 5 examples for class: Akshaye_Khanna\n",
            ">loaded 5 examples for class: Alia_Bhatt\n",
            ">loaded 5 examples for class: Abhishek_Bachchan\n",
            ">loaded 5 examples for class: Ameesha_Patel\n",
            ">loaded 5 examples for class: Aamir_Khan\n",
            ">loaded 5 examples for class: Ajay_Devgn\n",
            ">loaded 5 examples for class: Aishwarya_Rai\n",
            ">loaded 5 examples for class: Abhay_Deol\n",
            "(508, 160, 160, 3) (508,)\n"
          ]
        }
      ]
    },
    {
      "cell_type": "code",
      "metadata": {
        "id": "toNbeSp8kHh4"
      },
      "source": [
        ""
      ],
      "execution_count": null,
      "outputs": []
    },
    {
      "cell_type": "code",
      "metadata": {
        "id": "8Wg6_hA1IwNT"
      },
      "source": [
        "numpy.savez_compressed('/content/drive/MyDrive/metest/Dataset_celeb/celebrity-faces-dataset.npz', trainX, trainy, testX, testy)"
      ],
      "execution_count": null,
      "outputs": []
    },
    {
      "cell_type": "code",
      "metadata": {
        "colab": {
          "base_uri": "https://localhost:8080/"
        },
        "id": "FpAKFQ0QJAQ_",
        "outputId": "68ae06ae-a8f7-4e7c-a35e-b2b592ca8657"
      },
      "source": [
        "# load the face dataset\n",
        "data = numpy.load('/content/drive/MyDrive/metest/Dataset_celeb/celebrity-faces-dataset.npz')\n",
        "trainX, trainy, testX, testy = data['arr_0'], data['arr_1'], data['arr_2'], data['arr_3']\n",
        "print('Loaded: ', trainX.shape, trainy.shape, testX.shape, testy.shape)"
      ],
      "execution_count": null,
      "outputs": [
        {
          "output_type": "stream",
          "name": "stdout",
          "text": [
            "Loaded:  (1030, 160, 160, 3) (1030,) (508, 160, 160, 3) (508,)\n"
          ]
        }
      ]
    },
    {
      "cell_type": "code",
      "metadata": {
        "id": "Wf2oH3aN7wG3"
      },
      "source": [
        ""
      ],
      "execution_count": null,
      "outputs": []
    },
    {
      "cell_type": "code",
      "metadata": {
        "colab": {
          "base_uri": "https://localhost:8080/"
        },
        "id": "HVhMDHZJJeO_",
        "outputId": "e97f4a92-455c-4cf6-86fc-2d10b4faed46"
      },
      "source": [
        "# load the facenet model\n",
        "model = load_model('/content/drive/MyDrive/metest/Copy of facenet_keras.h5')\n",
        "print('Loaded Model')"
      ],
      "execution_count": null,
      "outputs": [
        {
          "output_type": "stream",
          "name": "stdout",
          "text": [
            "WARNING:tensorflow:No training configuration found in the save file, so the model was *not* compiled. Compile it manually.\n",
            "Loaded Model\n"
          ]
        }
      ]
    },
    {
      "cell_type": "code",
      "metadata": {
        "id": "XG_1xST4LE5P"
      },
      "source": [
        "def get_embedding(model, face_pixels):\n",
        "\t# scale pixel values\n",
        "\tface_pixels = face_pixels.astype('float32')\n",
        "\t# standardize pixel values across channels (global)\n",
        "\tmean, std = face_pixels.mean(), face_pixels.std()\n",
        "\tface_pixels = (face_pixels - mean) / std\n",
        "\t# transform face into one sample\n",
        "\tsamples = numpy.expand_dims(face_pixels, axis=0)\n",
        "\t# make prediction to get embedding\n",
        "\tyhat = model.predict(samples)\n",
        "\treturn yhat[0]\n",
        " "
      ],
      "execution_count": null,
      "outputs": []
    },
    {
      "cell_type": "code",
      "metadata": {
        "colab": {
          "base_uri": "https://localhost:8080/"
        },
        "id": "OOG5njw6JxKU",
        "outputId": "7f75111d-8c50-4119-dfe8-33b56f2cea60"
      },
      "source": [
        "# convert each face in the train set to an embedding\n",
        "newTrainX = list() \n",
        "for face_pixels in trainX:\n",
        "\tembedding = get_embedding(model, face_pixels)\n",
        "\tnewTrainX.append(embedding)\n",
        "newTrainX = asarray(newTrainX)\n",
        "print(newTrainX.shape)"
      ],
      "execution_count": null,
      "outputs": [
        {
          "output_type": "stream",
          "name": "stdout",
          "text": [
            "(1030, 128)\n"
          ]
        }
      ]
    },
    {
      "cell_type": "code",
      "metadata": {
        "id": "O_e_1Y6RkrsC"
      },
      "source": [
        ""
      ],
      "execution_count": null,
      "outputs": []
    },
    {
      "cell_type": "code",
      "metadata": {
        "colab": {
          "base_uri": "https://localhost:8080/"
        },
        "id": "70EKp71CMqNK",
        "outputId": "faf24ef5-8711-4cd4-ae9c-b18b7a4a9a70"
      },
      "source": [
        "# convert each face in the test set to an embedding\n",
        "newTestX = list()\n",
        "for face_pixels in testX:\n",
        "\tembedding = get_embedding(model, face_pixels)\n",
        "\tnewTestX.append(embedding)\n",
        "newTestX = asarray(newTestX)\n",
        "print(newTestX.shape)\n",
        "# save arrays to one file in compressed format\n",
        "numpy.savez_compressed('/content/drive/MyDrive/metest/Dataset_celeb/celebrity-faces-dataset.npz', newTrainX, trainy, newTestX, testy)"
      ],
      "execution_count": null,
      "outputs": [
        {
          "output_type": "stream",
          "name": "stdout",
          "text": [
            "(508, 128)\n"
          ]
        }
      ]
    },
    {
      "cell_type": "code",
      "metadata": {
        "colab": {
          "base_uri": "https://localhost:8080/"
        },
        "id": "Vk8jFL7IORTN",
        "outputId": "d1b14d77-83bf-4c7f-ed45-40c6a28f3b17"
      },
      "source": [
        "# load dataset\n",
        "data = numpy.load('/content/drive/MyDrive/metest/Dataset_celeb/celebrity-faces-dataset.npz')\n",
        "trainX, trainy, testX, testy = data['arr_0'], data['arr_1'], data['arr_2'], data['arr_3']\n",
        "print('Dataset: train=%d, test=%d' % (trainX.shape[0], testX.shape[0]))"
      ],
      "execution_count": null,
      "outputs": [
        {
          "output_type": "stream",
          "name": "stdout",
          "text": [
            "Dataset: train=1030, test=508\n"
          ]
        }
      ]
    },
    {
      "cell_type": "code",
      "metadata": {
        "id": "_6JY_e8WQZKC"
      },
      "source": [
        "from sklearn import preprocessing\n",
        "from sklearn import svm, metrics"
      ],
      "execution_count": null,
      "outputs": []
    },
    {
      "cell_type": "code",
      "metadata": {
        "id": "Q3nHW2h7PEQc"
      },
      "source": [
        "# normalize input vectors\n",
        "in_encoder = preprocessing.Normalizer(norm='l2')\n",
        "trainX = in_encoder.transform(trainX)\n",
        "testX = in_encoder.transform(testX)"
      ],
      "execution_count": null,
      "outputs": []
    },
    {
      "cell_type": "code",
      "metadata": {
        "id": "MbFm5aRQlhEP"
      },
      "source": [
        ""
      ],
      "execution_count": null,
      "outputs": []
    },
    {
      "cell_type": "code",
      "metadata": {
        "id": "4s5lCWkyPuoy"
      },
      "source": [
        "# label encode targets\n",
        "out_encoder = preprocessing.LabelEncoder()\n",
        "out_encoder.fit(trainy)\n",
        "trainy = out_encoder.transform(trainy)\n",
        "testy = out_encoder.transform(testy)"
      ],
      "execution_count": null,
      "outputs": []
    },
    {
      "cell_type": "code",
      "metadata": {
        "id": "v6TyFngml2yd"
      },
      "source": [
        ""
      ],
      "execution_count": null,
      "outputs": []
    },
    {
      "cell_type": "code",
      "metadata": {
        "id": "3njUPLOcmFB-"
      },
      "source": [
        ""
      ],
      "execution_count": null,
      "outputs": []
    },
    {
      "cell_type": "code",
      "metadata": {
        "colab": {
          "base_uri": "https://localhost:8080/"
        },
        "id": "QoPBYWUyQu1u",
        "outputId": "86005454-3fc8-4237-8e0b-22bb115c9dc3"
      },
      "source": [
        "# fit model\n",
        "model = svm.SVC(kernel='linear', probability=True, verbose=True)\n",
        "model.fit(trainX, trainy)"
      ],
      "execution_count": null,
      "outputs": [
        {
          "output_type": "stream",
          "name": "stdout",
          "text": [
            "[LibSVM]"
          ]
        },
        {
          "output_type": "execute_result",
          "data": {
            "text/plain": [
              "SVC(kernel='linear', max_iter=100, probability=True, verbose=True)"
            ]
          },
          "metadata": {},
          "execution_count": 19
        }
      ]
    },
    {
      "cell_type": "code",
      "metadata": {
        "id": "Ps77u5KkB0V5"
      },
      "source": [
        ""
      ],
      "execution_count": null,
      "outputs": []
    },
    {
      "cell_type": "code",
      "metadata": {
        "colab": {
          "base_uri": "https://localhost:8080/"
        },
        "id": "Gqr1IWNfRTZJ",
        "outputId": "c85e0a46-bc59-43b0-c74e-1e703683d1a5"
      },
      "source": [
        "# predict\n",
        "yhat_train = model.predict(trainX)\n",
        "yhat_test = model.predict(testX)\n",
        "# score\n",
        "score_train = metrics.accuracy_score(trainy, yhat_train)\n",
        "score_test = metrics.accuracy_score(testy, yhat_test)\n",
        "# summarize\n",
        "print('Accuracy: train=%.3f, test=%.3f' % (score_train*100, score_test*100))"
      ],
      "execution_count": null,
      "outputs": [
        {
          "output_type": "stream",
          "name": "stdout",
          "text": [
            "Accuracy: train=100.000, test=99.803\n"
          ]
        }
      ]
    },
    {
      "cell_type": "code",
      "metadata": {
        "id": "vTaqA5vJ2Fza"
      },
      "source": [
        ""
      ],
      "execution_count": null,
      "outputs": []
    },
    {
      "cell_type": "code",
      "metadata": {
        "id": "AehYyfJ5fZLn"
      },
      "source": [
        ""
      ],
      "execution_count": null,
      "outputs": []
    },
    {
      "cell_type": "code",
      "metadata": {
        "id": "TPb0UAHg5tC_"
      },
      "source": [
        "from sklearn.datasets import make_circles\n",
        "from sklearn.metrics import accuracy_score\n",
        "from sklearn.metrics import precision_score\n",
        "from sklearn.metrics import recall_score\n",
        "from sklearn.metrics import f1_score\n",
        "from sklearn.metrics import cohen_kappa_score\n",
        "from sklearn.metrics import roc_auc_score\n",
        "from sklearn.metrics import confusion_matrix\n",
        "from sklearn.metrics import plot_confusion_matrix"
      ],
      "execution_count": null,
      "outputs": []
    },
    {
      "cell_type": "code",
      "metadata": {
        "id": "9BtZlvH_j4EQ"
      },
      "source": [
        "import matplotlib.pyplot as plt\n",
        "import seaborn as sns\n",
        "from sklearn.metrics import ConfusionMatrixDisplay"
      ],
      "execution_count": null,
      "outputs": []
    },
    {
      "cell_type": "code",
      "metadata": {
        "id": "KjC5Jvtkj2Lx"
      },
      "source": [
        ""
      ],
      "execution_count": null,
      "outputs": []
    },
    {
      "cell_type": "code",
      "metadata": {
        "colab": {
          "base_uri": "https://localhost:8080/"
        },
        "id": "nikrDcdPfemw",
        "outputId": "1b8610af-7dab-4f9b-d51e-1f208276a25a"
      },
      "source": [
        "confusion_matrix(testy, yhat_test)"
      ],
      "execution_count": null,
      "outputs": [
        {
          "output_type": "execute_result",
          "data": {
            "text/plain": [
              "array([[5, 0, 0, ..., 0, 0, 0],\n",
              "       [0, 5, 0, ..., 0, 0, 0],\n",
              "       [0, 0, 5, ..., 0, 0, 0],\n",
              "       ...,\n",
              "       [0, 0, 0, ..., 5, 0, 0],\n",
              "       [0, 0, 0, ..., 0, 5, 0],\n",
              "       [0, 0, 0, ..., 0, 0, 5]])"
            ]
          },
          "metadata": {},
          "execution_count": 23
        }
      ]
    },
    {
      "cell_type": "code",
      "metadata": {
        "colab": {
          "base_uri": "https://localhost:8080/"
        },
        "id": "YMahCxiDP7_D",
        "outputId": "e0b28cc9-04c0-47d6-d1dd-9aeca2fffbf4"
      },
      "source": [
        "# accuracy: (tp + tn) / (p + n)\n",
        "accuracy = accuracy_score(testy, yhat_test)\n",
        "print('Accuracy: %f' % accuracy)\n",
        "# precision tp / (tp + fp)\n",
        "precision = precision_score(testy, yhat_test,average = \"macro\")\n",
        "print('Precision: %f' % precision)\n",
        "# recall: tp / (tp + fn)\n",
        "recall = recall_score(testy, yhat_test, average = \"macro\" )\n",
        "print('Recall: %f' % recall)\n",
        "# f1: 2 tp / (2 tp + fp + fn)\n",
        "f1 = f1_score(testy, yhat_test, average = \"macro\")\n",
        "print('F1 score: %f' % f1)"
      ],
      "execution_count": null,
      "outputs": [
        {
          "output_type": "stream",
          "name": "stdout",
          "text": [
            "Accuracy: 0.998031\n",
            "Precision: 0.998333\n",
            "Recall: 0.998000\n",
            "F1 score: 0.997980\n"
          ]
        }
      ]
    },
    {
      "cell_type": "code",
      "metadata": {
        "colab": {
          "base_uri": "https://localhost:8080/",
          "height": 504
        },
        "id": "ul4L5fbaSBK0",
        "outputId": "bf2e28cc-ef5a-4952-d95b-7e3ab3da4025"
      },
      "source": [
        "plt.figure(figsize = (18,8))\n",
        "sns.heatmap(metrics.confusion_matrix(testy, yhat_test), annot = True, xticklabels = numpy.unique(testy), yticklabels = numpy.unique(yhat_test), cmap = 'summer')\n",
        "plt.xlabel('Predicted Labels')\n",
        "plt.ylabel('True Labels')\n",
        "plt.show()"
      ],
      "execution_count": null,
      "outputs": [
        {
          "output_type": "display_data",
          "data": {
            "image/png": "[encoded data removed]",
            "text/plain": [
              "<Figure size 1296x576 with 2 Axes>"
            ]
          },
          "metadata": {
            "needs_background": "light"
          }
        }
      ]
    },
    {
      "cell_type": "code",
      "metadata": {
        "id": "T_xjcYRnSxg2"
      },
      "source": [
        "import numpy as np\n",
        "from sklearn.datasets import load_digits\n",
        "from sklearn.model_selection import ShuffleSplit\n",
        "from sklearn.model_selection import learning_curve"
      ],
      "execution_count": null,
      "outputs": []
    },
    {
      "cell_type": "code",
      "metadata": {
        "id": "GKVrDWwLNfw3"
      },
      "source": [
        "def plot_learning_curve(\n",
        "    estimator,\n",
        "    title,\n",
        "    X,\n",
        "    y,\n",
        "    axes=None,\n",
        "    ylim=None,\n",
        "    cv=None,\n",
        "    n_jobs=None,\n",
        "    train_sizes=np.linspace(0.1, 1.0, 5),\n",
        "):\n",
        "    if axes is None:\n",
        "        _, axes = plt.subplots(1, 3, figsize=(20, 5))\n",
        "\n",
        "    axes[0].set_title(title)\n",
        "    if ylim is not None:\n",
        "        axes[0].set_ylim(*ylim)\n",
        "    axes[0].set_xlabel(\"Training examples\")\n",
        "    axes[0].set_ylabel(\"Score\")\n",
        "\n",
        "    train_sizes, train_scores, test_scores, fit_times, _ = learning_curve(\n",
        "        estimator,\n",
        "        X,\n",
        "        y,\n",
        "        cv=cv,\n",
        "        n_jobs=n_jobs,\n",
        "        train_sizes=train_sizes,\n",
        "        return_times=True,\n",
        "    )\n",
        "    train_scores_mean = np.mean(train_scores, axis=1)\n",
        "    train_scores_std = np.std(train_scores, axis=1)\n",
        "    test_scores_mean = np.mean(test_scores, axis=1)\n",
        "    test_scores_std = np.std(test_scores, axis=1)\n",
        "    fit_times_mean = np.mean(fit_times, axis=1)\n",
        "    fit_times_std = np.std(fit_times, axis=1)\n",
        "\n",
        "    # Plot learning curve\n",
        "    axes[0].grid()\n",
        "    axes[0].fill_between(\n",
        "        train_sizes,\n",
        "        train_scores_mean - train_scores_std,\n",
        "        train_scores_mean + train_scores_std,\n",
        "        alpha=0.1,\n",
        "        color=\"r\",\n",
        "    )\n",
        "    axes[0].fill_between(\n",
        "        train_sizes,\n",
        "        test_scores_mean - test_scores_std,\n",
        "        test_scores_mean + test_scores_std,\n",
        "        alpha=0.1,\n",
        "        color=\"g\",\n",
        "    )\n",
        "    axes[0].plot(\n",
        "        train_sizes, train_scores_mean, \"o-\", color=\"r\", label=\"Training score\"\n",
        "    )\n",
        "    axes[0].plot(\n",
        "        train_sizes, test_scores_mean, \"o-\", color=\"g\", label=\"Cross-validation score\"\n",
        "    )\n",
        "    axes[0].legend(loc=\"best\")\n",
        "\n",
        "    # Plot n_samples vs fit_times\n",
        "    axes[1].grid()\n",
        "    axes[1].plot(train_sizes, fit_times_mean, \"o-\")\n",
        "    axes[1].fill_between(\n",
        "        train_sizes,\n",
        "        fit_times_mean - fit_times_std,\n",
        "        fit_times_mean + fit_times_std,\n",
        "        alpha=0.1,\n",
        "    )\n",
        "    axes[1].set_xlabel(\"Training examples\")\n",
        "    axes[1].set_ylabel(\"fit_times\")\n",
        "    axes[1].set_title(\"Scalability of the model\")\n",
        "\n",
        "    # Plot fit_time vs score\n",
        "    axes[2].grid()\n",
        "    axes[2].plot(fit_times_mean, test_scores_mean, \"o-\")\n",
        "    axes[2].fill_between(\n",
        "        fit_times_mean,\n",
        "        test_scores_mean - test_scores_std,\n",
        "        test_scores_mean + test_scores_std,\n",
        "        alpha=0.1,\n",
        "    )\n",
        "    axes[2].set_xlabel(\"fit_times\")\n",
        "    axes[2].set_ylabel(\"Score\")\n",
        "    axes[2].set_title(\"Performance of the model\")\n",
        "\n",
        "    return plt\n"
      ],
      "execution_count": null,
      "outputs": []
    },
    {
      "cell_type": "code",
      "metadata": {
        "colab": {
          "base_uri": "https://localhost:8080/",
          "height": 426
        },
        "id": "UpYY4K_5NjcC",
        "outputId": "def75916-1409-49ea-a114-f349f3694848"
      },
      "source": [
        "#plot graph\n",
        "X, y = load_digits(return_X_y=True)\n",
        "title = r\"Learning Curves\"\n",
        "plot_learning_curve(\n",
        "    model, title, trainX, trainy\n",
        ")\n",
        "\n",
        "plt.show()"
      ],
      "execution_count": null,
      "outputs": [
        {
          "output_type": "stream",
          "name": "stderr",
          "text": [
            "/usr/local/lib/python3.7/dist-packages/sklearn/model_selection/_split.py:680: UserWarning: The least populated class in y has only 4 members, which is less than n_splits=5.\n",
            "  UserWarning,\n"
          ]
        },
        {
          "output_type": "stream",
          "name": "stdout",
          "text": [
            "[LibSVM][LibSVM][LibSVM][LibSVM][LibSVM][LibSVM][LibSVM][LibSVM][LibSVM][LibSVM][LibSVM][LibSVM][LibSVM][LibSVM][LibSVM][LibSVM][LibSVM][LibSVM][LibSVM][LibSVM][LibSVM][LibSVM][LibSVM][LibSVM][LibSVM]"
          ]
        },
        {
          "output_type": "display_data",
          "data": {
            "image/png": "[encoded data removed]",
            "text/plain": [
              "<Figure size 1440x360 with 3 Axes>"
            ]
          },
          "metadata": {
            "needs_background": "light"
          }
        }
      ]
    },
    {
      "cell_type": "code",
      "metadata": {
        "id": "_Q-TkUiKNlBW"
      },
      "source": [
        ""
      ],
      "execution_count": null,
      "outputs": []
    },
    {
      "cell_type": "code",
      "metadata": {
        "id": "kX7RVgkRNksc"
      },
      "source": [
        ""
      ],
      "execution_count": null,
      "outputs": []
    }
  ]
}