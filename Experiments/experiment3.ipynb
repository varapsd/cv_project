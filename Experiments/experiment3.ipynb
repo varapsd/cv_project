{
  "nbformat": 4,
  "nbformat_minor": 0,
  "metadata": {
    "colab": {
      "name": "experiment3.ipynb",
      "provenance": [],
      "collapsed_sections": []
    },
    "kernelspec": {
      "name": "python3",
      "display_name": "Python 3"
    },
    "language_info": {
      "name": "python"
    }
  },
  "cells": [
    {
      "cell_type": "code",
      "metadata": {
        "id": "fzVS0Mgemkez"
      },
      "source": [
        "from keras import models\n",
        "from keras.models import load_model"
      ],
      "execution_count": null,
      "outputs": []
    },
    {
      "cell_type": "code",
      "metadata": {
        "colab": {
          "base_uri": "https://localhost:8080/"
        },
        "id": "mSYbS0H0LLXt",
        "outputId": "03063c68-6d89-41f3-dfe1-f4b795906ac5"
      },
      "source": [
        "from google.colab import drive\n",
        "drive.mount('/content/drive')"
      ],
      "execution_count": null,
      "outputs": [
        {
          "output_type": "stream",
          "name": "stdout",
          "text": [
            "Drive already mounted at /content/drive; to attempt to forcibly remount, call drive.mount(\"/content/drive\", force_remount=True).\n"
          ]
        }
      ]
    },
    {
      "cell_type": "code",
      "metadata": {
        "id": "I443kya1yj1v"
      },
      "source": [
        ""
      ],
      "execution_count": null,
      "outputs": []
    },
    {
      "cell_type": "code",
      "metadata": {
        "colab": {
          "base_uri": "https://localhost:8080/"
        },
        "id": "S4iJ6zlGrG9P",
        "outputId": "3afb7336-2999-497e-f068-557a540d419e"
      },
      "source": [
        "!sudo pip3 install mtcnn"
      ],
      "execution_count": null,
      "outputs": [
        {
          "output_type": "stream",
          "name": "stdout",
          "text": [
            "Collecting mtcnn\n",
            "  Downloading mtcnn-0.1.1-py3-none-any.whl (2.3 MB)\n",
            "\u001b[K     |████████████████████████████████| 2.3 MB 7.2 MB/s \n",
            "\u001b[?25hRequirement already satisfied: opencv-python>=4.1.0 in /usr/local/lib/python3.7/dist-packages (from mtcnn) (4.1.2.30)\n",
            "Requirement already satisfied: keras>=2.0.0 in /usr/local/lib/python3.7/dist-packages (from mtcnn) (2.7.0)\n",
            "Requirement already satisfied: numpy>=1.14.5 in /usr/local/lib/python3.7/dist-packages (from opencv-python>=4.1.0->mtcnn) (1.19.5)\n",
            "Installing collected packages: mtcnn\n",
            "Successfully installed mtcnn-0.1.1\n"
          ]
        }
      ]
    },
    {
      "cell_type": "code",
      "metadata": {
        "id": "5lwcqfVRrcFk"
      },
      "source": [
        ""
      ],
      "execution_count": null,
      "outputs": []
    },
    {
      "cell_type": "code",
      "metadata": {
        "id": "doRDdJVsrxre"
      },
      "source": [
        " "
      ],
      "execution_count": null,
      "outputs": []
    },
    {
      "cell_type": "code",
      "metadata": {
        "id": "WIVq6X404NUm"
      },
      "source": [
        "import os\n",
        "from PIL import *\n",
        "from numpy import asarray\n",
        "from matplotlib import pyplot\n",
        "from mtcnn.mtcnn import MTCNN\n",
        "import numpy"
      ],
      "execution_count": null,
      "outputs": []
    },
    {
      "cell_type": "code",
      "metadata": {
        "id": "LdoVtSlx_Jzi"
      },
      "source": [
        ""
      ],
      "execution_count": null,
      "outputs": []
    },
    {
      "cell_type": "code",
      "metadata": {
        "id": "sNzwaQ2_4Qw-"
      },
      "source": [
        "def extract_face(filename, required_size=(160, 160)):\n",
        "\t# load image from file\n",
        "\timage = Image.open(filename)\n",
        "\t# convert to RGB, if needed\n",
        "\timage = image.convert('RGB')\n",
        "\t# convert to array\n",
        "\tpixels = asarray(image)\n",
        "\t# create the detector, using default weights\n",
        "\tdetector = MTCNN()\n",
        "\t# detect faces in the image\n",
        "\tresults = detector.detect_faces(pixels)\n",
        "\t# extract the bounding box from the first face\n",
        "\tx1, y1, width, height = results[0]['box']\n",
        "\t# bug fix\n",
        "\tx1, y1 = abs(x1), abs(y1)\n",
        "\tx2, y2 = x1 + width, y1 + height\n",
        "\t# extract the face\n",
        "\tface = pixels[y1:y2, x1:x2]\n",
        "\t# resize pixels to the model size\n",
        "\timage = Image.fromarray(face)\n",
        "\timage = image.resize(required_size)\n",
        "\tface_array = asarray(image)\n",
        "\treturn face_array"
      ],
      "execution_count": null,
      "outputs": []
    },
    {
      "cell_type": "code",
      "metadata": {
        "id": "la-Lu7R6GmRb"
      },
      "source": [
        "def load_faces(directory):\n",
        "\tfaces = list()\n",
        "\t# enumerate files\n",
        "\tfor filename in os.listdir(directory):\n",
        "\t\t# path\n",
        "\t\tpath = directory + filename\n",
        "\t\t# get face\n",
        "\t\tface = extract_face(path)\n",
        "\t\t# store\n",
        "\t\tfaces.append(face)\n",
        "\treturn faces"
      ],
      "execution_count": null,
      "outputs": []
    },
    {
      "cell_type": "code",
      "metadata": {
        "id": "k5EtPF4iGulD"
      },
      "source": [
        "# load a dataset that contains one subdir for each class that in turn contains images\n",
        "def load_dataset(directory):\n",
        "\tX, y = list(), list()\n",
        "\t# enumerate folders, on per class\n",
        "\tfor subdir in os.listdir(directory):\n",
        "\t\t# path\n",
        "\t\tpath = directory + subdir + '/'\n",
        "\t\t# skip any files that might be in the dir\n",
        "\t\tif not os.path.isdir(path):\n",
        "\t\t\tcontinue\n",
        "\t\t# load all faces in the subdirectory\n",
        "\t\tfaces = load_faces(path)\n",
        "\t\t# create labels\n",
        "\t\tlabels = [subdir for _ in range(len(faces))]\n",
        "\t\t# summarize progress\n",
        "\t\tprint('>loaded %d examples for class: %s' % (len(faces), subdir))\n",
        "\t\t# store\n",
        "\t\tX.extend(faces)\n",
        "\t\ty.extend(labels)\n",
        "\treturn asarray(X), asarray(y)"
      ],
      "execution_count": null,
      "outputs": []
    },
    {
      "cell_type": "code",
      "metadata": {
        "colab": {
          "base_uri": "https://localhost:8080/"
        },
        "id": "L2N-sAwYG04m",
        "outputId": "06d4134c-3d8d-4dbe-9b74-29f8aa1917a9"
      },
      "source": [
        "# load train dataset\n",
        "trainX, trainy = load_dataset('/content/drive/MyDrive/metest/LFW_Dataset/train/')\n",
        "print(trainX.shape, trainy.shape)\n",
        "# load test dataset\n",
        "testX, testy = load_dataset('/content/drive/MyDrive/metest/LFW_Dataset/test/')\n",
        "print(testX.shape, testy.shape)\n",
        "# save arrays to one file in compressed format\n",
        "#savez_compressed('/content/drive/MyDrive/metest/data/5-celebrity-faces-dataset.npz', trainX, trainy, testX, testy)"
      ],
      "execution_count": null,
      "outputs": [
        {
          "output_type": "stream",
          "name": "stdout",
          "text": [
            "WARNING:tensorflow:5 out of the last 10 calls to <function Model.make_predict_function.<locals>.predict_function at 0x7f92b5d997a0> triggered tf.function retracing. Tracing is expensive and the excessive number of tracings could be due to (1) creating @tf.function repeatedly in a loop, (2) passing tensors with different shapes, (3) passing Python objects instead of tensors. For (1), please define your @tf.function outside of the loop. For (2), @tf.function has experimental_relax_shapes=True option that relaxes argument shapes that can avoid unnecessary retracing. For (3), please refer to https://www.tensorflow.org/guide/function#controlling_retracing and https://www.tensorflow.org/api_docs/python/tf/function for  more details.\n",
            ">loaded 1 examples for class: Aaron_Eckhart\n",
            "WARNING:tensorflow:6 out of the last 11 calls to <function Model.make_predict_function.<locals>.predict_function at 0x7f92b5c647a0> triggered tf.function retracing. Tracing is expensive and the excessive number of tracings could be due to (1) creating @tf.function repeatedly in a loop, (2) passing tensors with different shapes, (3) passing Python objects instead of tensors. For (1), please define your @tf.function outside of the loop. For (2), @tf.function has experimental_relax_shapes=True option that relaxes argument shapes that can avoid unnecessary retracing. For (3), please refer to https://www.tensorflow.org/guide/function#controlling_retracing and https://www.tensorflow.org/api_docs/python/tf/function for  more details.\n",
            ">loaded 1 examples for class: Aaron_Guiel\n",
            ">loaded 1 examples for class: Aaron_Patterson\n",
            ">loaded 3 examples for class: Aaron_Peirsol\n",
            ">loaded 1 examples for class: Aaron_Pena\n",
            ">loaded 2 examples for class: Aaron_Sorkin\n",
            ">loaded 1 examples for class: Aaron_Tippin\n",
            ">loaded 1 examples for class: Abba_Eban\n",
            ">loaded 1 examples for class: Abbas_Kiarostami\n",
            ">loaded 1 examples for class: Abdel_Aziz_Al-Hakim\n",
            ">loaded 1 examples for class: Abdel_Madi_Shabneh\n",
            ">loaded 2 examples for class: Abdel_Nasser_Assidi\n",
            ">loaded 3 examples for class: Abdoulaye_Wade\n",
            ">loaded 1 examples for class: Abdulaziz_Kamilov\n",
            ">loaded 3 examples for class: Abdullah\n",
            ">loaded 1 examples for class: Abdullah_Ahmad_Badawi\n",
            ">loaded 2 examples for class: Abdullah_al-Attiyah\n",
            ">loaded 13 examples for class: Abdullah_Gul\n",
            ">loaded 1 examples for class: Abdullah_Nasseef\n",
            ">loaded 2 examples for class: Abdullatif_Sener\n",
            ">loaded 1 examples for class: Abdul_Majeed_Shobokshi\n",
            ">loaded 1 examples for class: Abdul_Rahman\n",
            ">loaded 1 examples for class: Abel_Aguilar\n",
            ">loaded 3 examples for class: Abel_Pacheco\n",
            ">loaded 2 examples for class: Abid_Hamid_Mahmud_Al-Tikriti\n",
            ">loaded 1 examples for class: Abner_Martinez\n",
            ">loaded 1 examples for class: Abraham_Foxman\n",
            ">loaded 1 examples for class: Aby_Har-Even\n",
            ">loaded 1 examples for class: Adam_Ant\n",
            ">loaded 1 examples for class: Adam_Freier\n",
            ">loaded 1 examples for class: Adam_Herbert\n",
            ">loaded 1 examples for class: Adam_Kennedy\n",
            ">loaded 1 examples for class: Adam_Mair\n",
            ">loaded 1 examples for class: Adam_Rich\n",
            ">loaded 3 examples for class: Adam_Sandler\n",
            ">loaded 2 examples for class: Adam_Scott\n",
            ">loaded 2 examples for class: Adel_Al-Jubeir\n",
            ">loaded 1 examples for class: Adelina_Avila\n",
            ">loaded 1 examples for class: Adisai_Bodharamik\n",
            ">loaded 2 examples for class: Adolfo_Aguilar_Zinser\n",
            ">loaded 2 examples for class: Adolfo_Rodriguez_Saa\n",
            ">loaded 1 examples for class: Adoor_Gopalakarishnan\n",
            ">loaded 1 examples for class: Adriana_Lima\n",
            ">loaded 1 examples for class: Adrian_Annus\n",
            ">loaded 1 examples for class: Adriana_Perez_Navarro\n",
            ">loaded 1 examples for class: Adrian_Fernandez\n",
            ">loaded 2 examples for class: Adrian_McPherson\n",
            ">loaded 1 examples for class: Adrian_Murrell\n",
            ">loaded 2 examples for class: Adrian_Nastase\n",
            ">loaded 1 examples for class: Adrianna_Zuzic\n",
            ">loaded 8 examples for class: Adrien_Brody\n",
            ">loaded 1 examples for class: Afton_Smith\n",
            ">loaded 1 examples for class: Agbani_Darego\n",
            ">loaded 1 examples for class: Agnelo_Queiroz\n",
            ">loaded 1 examples for class: Agnes_Bruckner\n",
            ">loaded 1 examples for class: Ahmad_Jbarah\n",
            ">loaded 2 examples for class: Ahmad_Masood\n",
            ">loaded 1 examples for class: Ahmed_Ahmed\n",
            ">loaded 4 examples for class: Ahmed_Chalabi\n",
            ">loaded 1 examples for class: Ahmed_Ghazi\n",
            ">loaded 1 examples for class: Ahmed_Ibrahim_Bilal\n",
            ">loaded 1 examples for class: Ahmed_Lopez\n",
            ">loaded 1 examples for class: Ahmed_Qureia\n",
            ">loaded 1 examples for class: Ahmet_Demir\n",
            ">loaded 2 examples for class: Ahmet_Necdet_Sezer\n",
            ">loaded 2 examples for class: Aicha_El_Ouafi\n",
            ">loaded 1 examples for class: Aidan_Quinn\n",
            ">loaded 1 examples for class: Aileen_Riggin_Soule\n",
            ">loaded 1 examples for class: Ain_Seppik\n",
            ">loaded 1 examples for class: Ainsworth_Dyer\n",
            ">loaded 1 examples for class: Aishwarya_Rai\n",
            ">loaded 4 examples for class: Ai_Sugiyama\n",
            ">loaded 2 examples for class: Aitor_Gonzalez\n",
            ">loaded 1 examples for class: Aiysha_Smith\n",
            ">loaded 1 examples for class: AJ_Cook\n",
            ">loaded 1 examples for class: Ajit_Agarkar\n",
            ">loaded 1 examples for class: AJ_Lamas\n",
            ">loaded 1 examples for class: Akbar_Al_Baker\n",
            ">loaded 2 examples for class: Akbar_Hashemi_Rafsanjani\n",
            ">loaded 2 examples for class: Akhmed_Zakayev\n",
            ">loaded 1 examples for class: Akiko_Morigami\n",
            ">loaded 1 examples for class: Akmal_Taher\n",
            ">loaded 1 examples for class: Alain_Cervantes\n",
            ">loaded 1 examples for class: Alain_Ducasse\n",
            ">loaded 2 examples for class: Alan_Ball\n",
            ">loaded 1 examples for class: Alan_Dershowitz\n",
            ">loaded 1 examples for class: Alan_Dreher\n",
            ">loaded 4 examples for class: Alan_Greenspan\n",
            ">loaded 1 examples for class: Alan_Greer\n",
            ">loaded 1 examples for class: Alanis_Morissette\n",
            ">loaded 1 examples for class: Alan_Jackson\n",
            ">loaded 2 examples for class: Alan_Mulally\n",
            ">loaded 1 examples for class: Alanna_Ubach\n",
            ">loaded 1 examples for class: Alan_Stonecipher\n",
            ">loaded 1 examples for class: Alan_Tang_Kwong-wing\n",
            ">loaded 1 examples for class: Alan_Trammell\n",
            ">loaded 1 examples for class: Alan_Zemaitis\n",
            ">loaded 4 examples for class: Alastair_Campbell\n",
            ">loaded 1 examples for class: Alastair_Johnston\n",
            ">loaded 1 examples for class: Albaro_Recoba\n",
            ">loaded 1 examples for class: Alberta_Lee\n",
            ">loaded 1 examples for class: Albert_Brooks\n",
            ">loaded 4 examples for class: Albert_Costa\n",
            ">loaded 1 examples for class: Albert_Montanes\n",
            ">loaded 1 examples for class: Alberto_Acosta\n",
            ">loaded 2 examples for class: Alberto_Fujimori\n",
            ">loaded 1 examples for class: Alberto_Gonzales\n",
            ">loaded 2 examples for class: Alberto_Ruiz_Gallardon\n",
            ">loaded 1 examples for class: Alberto_Sordi\n",
            ">loaded 1 examples for class: Albert_Pujols\n",
            ">loaded 2 examples for class: Albrecht_Mentz\n",
            ">loaded 1 examples for class: Al_Cardenas\n",
            ">loaded 2 examples for class: Al_Davis\n",
            ">loaded 2 examples for class: Aldo_Paredes\n",
            ">loaded 3 examples for class: Alec_Baldwin\n",
            ">loaded 1 examples for class: Alecos_Markides\n",
            ">loaded 2 examples for class: Alejandro_Atchugarry\n",
            ">loaded 2 examples for class: Alejandro_Avila\n",
            ">loaded 1 examples for class: Alejandro_Fernandez\n",
            ">loaded 1 examples for class: Alejandro_Gonzalez_Inarritu\n",
            ">loaded 1 examples for class: Alejandro_Lembo\n",
            ">loaded 1 examples for class: Alejandro_Lerner\n",
            ">loaded 1 examples for class: Alejandro_Lopez\n",
            ">loaded 26 examples for class: Alejandro_Toledo\n",
            ">loaded 3 examples for class: Aleksander_Kwasniewski\n",
            ">loaded 1 examples for class: Aleksander_Voloshin\n",
            ">loaded 1 examples for class: Alek_Wek\n",
            ">loaded 1 examples for class: Alessandra_Cerna\n",
            ">loaded 1 examples for class: Alessandro_Nesta\n",
            ">loaded 1 examples for class: Alexa_Loren\n",
            ">loaded 3 examples for class: Alexander_Downer\n",
            ">loaded 3 examples for class: Alexander_Losyukov\n",
            ">loaded 1 examples for class: Alexander_Lukashenko\n",
            ">loaded 1 examples for class: Alexander_Payne\n",
            ">loaded 2 examples for class: Alexander_Rumyantsev\n",
            ">loaded 1 examples for class: Alexandra_Jackson\n",
            ">loaded 1 examples for class: Alexandra_Pelosi\n",
            ">loaded 1 examples for class: Alexandra_Rozovskaya\n",
            ">loaded 1 examples for class: Alexandra_Spann\n",
            ">loaded 2 examples for class: Alexandra_Stevenson\n",
            ">loaded 2 examples for class: Alexandra_Vodjanikova\n",
            ">loaded 1 examples for class: Alexandre_Daigle\n",
            ">loaded 1 examples for class: Alexandre_Despatie\n",
            ">loaded 1 examples for class: Alexandre_Herchcovitch\n",
            ">loaded 1 examples for class: Alexandre_Vinokourov\n",
            ">loaded 1 examples for class: Alexa_Vega\n",
            ">loaded 2 examples for class: Alex_Barros\n",
            ">loaded 1 examples for class: Alex_Cabrera\n",
            ">loaded 1 examples for class: Alex_Cejka\n",
            ">loaded 1 examples for class: Alex_Corretja\n",
            ">loaded 1 examples for class: Alex_Ferguson\n",
            ">loaded 1 examples for class: Alex_Gonzalez\n",
            ">loaded 1 examples for class: Alex_Holmes\n",
            ">loaded 1 examples for class: Alexis_Bledel\n",
            ">loaded 1 examples for class: Alexis_Dennisoff\n",
            ">loaded 1 examples for class: Alex_King\n",
            ">loaded 2 examples for class: Alex_Penelas\n",
            ">loaded 1 examples for class: Alex_Popov\n",
            ">loaded 2 examples for class: Alex_Sink\n",
            ">loaded 1 examples for class: Alex_Wallau\n",
            ">loaded 1 examples for class: Alex_Zanardi\n",
            ">loaded 1 examples for class: Alfonso_Cuaron\n",
            ">loaded 1 examples for class: Alfonso_Portillo\n",
            ">loaded 1 examples for class: Alfonso_Soriano\n",
            ">loaded 1 examples for class: Alfred_Ford\n",
            ">loaded 1 examples for class: Alfredo_di_Stefano\n",
            ">loaded 1 examples for class: Alfredo_Moreno\n",
            ">loaded 1 examples for class: Alfredo_Pena\n",
            ">loaded 1 examples for class: Alfred_Sant\n",
            ">loaded 6 examples for class: Al_Gore\n",
            ">loaded 2 examples for class: Ali_Abbas\n",
            ">loaded 1 examples for class: Ali_Abdullah_Saleh\n",
            ">loaded 1 examples for class: Ali_Adbul_Karim_Madani\n",
            ">loaded 1 examples for class: Ali_Ahmeti\n",
            ">loaded 1 examples for class: Ali_Bin_Hussein\n",
            ">loaded 2 examples for class: Alice_Fisher\n",
            ">loaded 1 examples for class: Alicia_Hollowell\n",
            ">loaded 1 examples for class: Alicia_Keys\n",
            ">loaded 1 examples for class: Alicia_Molik\n",
            ">loaded 2 examples for class: Alicia_Silverstone\n",
            ">loaded 1 examples for class: Alicia_Witt\n",
            ">loaded 1 examples for class: Ali_Fallahian\n",
            ">loaded 1 examples for class: Ali_Hammoud\n",
            ">loaded 2 examples for class: Ali_Khamenei\n",
            ">loaded 1 examples for class: Ali_Mohammed_Maher\n",
            ">loaded 2 examples for class: Alimzhan_Tokhtakhounov\n",
            ">loaded 6 examples for class: Ali_Naimi\n",
            ">loaded 1 examples for class: Alina_Kabaeva\n",
            ">loaded 1 examples for class: Aline_Chretien\n",
            ">loaded 1 examples for class: Alisha_Richman\n",
            ">loaded 1 examples for class: Alison_Krauss\n",
            ">loaded 2 examples for class: Alison_Lohman\n",
            ">loaded 1 examples for class: Alistair_MacDonald\n",
            ">loaded 1 examples for class: Allan_Houston\n",
            ">loaded 1 examples for class: Allan_Kemakeza\n",
            ">loaded 1 examples for class: Allan_Wagner\n",
            ">loaded 1 examples for class: Al_Leiter\n",
            ">loaded 2 examples for class: Allen_Iverson\n",
            ">loaded 1 examples for class: Allen_Rock\n",
            ">loaded 2 examples for class: Allison_Janney\n",
            ">loaded 1 examples for class: Allison_Searing\n",
            ">loaded 1 examples for class: Ally_Sheedy\n",
            ">loaded 4 examples for class: Allyson_Felix\n",
            ">loaded 1 examples for class: Alma_Powell\n",
            ">loaded 1 examples for class: Almeida_Baptista\n",
            ">loaded 1 examples for class: Alonzo_Mourning\n",
            ">loaded 2 examples for class: Al_Pacino\n",
            ">loaded 5 examples for class: Al_Sharpton\n",
            ">loaded 2 examples for class: Alvaro_Noboa\n",
            ">loaded 3 examples for class: Alvaro_Silva_Calderon\n",
            ">loaded 24 examples for class: Alvaro_Uribe\n",
            ">loaded 1 examples for class: Alyse_Beaupre\n",
            ">loaded 1 examples for class: Alyson_Hannigan\n",
            ">loaded 1 examples for class: Aly_Wagner\n",
            ">loaded 2 examples for class: Amanda_Beard\n",
            ">loaded 3 examples for class: Amanda_Bynes\n",
            ">loaded 2 examples for class: Amanda_Coetzer\n",
            ">loaded 1 examples for class: Amanda_Marsh\n",
            ">loaded 1 examples for class: Amanda_Plumer\n",
            ">loaded 1 examples for class: Amber_Frey\n",
            ">loaded 2 examples for class: Amber_Tamblyn\n",
            ">loaded 1 examples for class: Ambrose_Lee\n",
            ">loaded 5 examples for class: Amelia_Vega\n",
            ">loaded 14 examples for class: Amelie_Mauresmo\n",
            ">loaded 3 examples for class: Amer_al-Saadi\n",
            ">loaded 1 examples for class: Amporn_Falise\n",
            ">loaded 2 examples for class: Amram_Mitzna\n",
            ">loaded 1 examples for class: Amr_Moussa\n",
            ">loaded 1 examples for class: Amy_Brenneman\n",
            ">loaded 1 examples for class: Amy_Cotton\n",
            ">loaded 1 examples for class: Amy_Gale\n",
            ">loaded 1 examples for class: Amy_Pascal\n",
            ">loaded 1 examples for class: Amy_Redford\n",
            ">loaded 1 examples for class: Amy_Smart\n",
            ">loaded 1 examples for class: Amy_Yasbeck\n",
            ">loaded 1 examples for class: Ana_Claudia_Talancon\n",
            ">loaded 5 examples for class: Ana_Guevara\n",
            ">loaded 1 examples for class: Ana_Isabel_Sanchez\n",
            ">loaded 6 examples for class: Ana_Palacio\n",
            ">loaded 1 examples for class: Ana_Paula_Gerard\n",
            ">loaded 1 examples for class: Ana_Sebastiao\n",
            ">loaded 1 examples for class: Anastasia_Kelesidou\n",
            ">loaded 2 examples for class: Anastasia_Myskina\n",
            ">loaded 1 examples for class: Anatoliy_Kinakh\n",
            ">loaded 2 examples for class: Anders_Ebbeson\n",
            ">loaded 3 examples for class: Anders_Fogh_Rasmussen\n",
            ">loaded 1 examples for class: Anderson_Varejao\n",
            ">loaded 1 examples for class: Andrea_Bocelli\n",
            ">loaded 1 examples for class: Andrea_De_Cruz\n",
            ">loaded 24 examples for class: Andre_Agassi\n",
            ">loaded 1 examples for class: Andrea_Kiser\n",
            ">loaded 1 examples for class: Andreas_Vinciguerra\n",
            ">loaded 1 examples for class: Andrea_Yates\n",
            ">loaded 1 examples for class: Andre_Bucher\n",
            ">loaded 1 examples for class: Andrei_Konchalovsky\n",
            ">loaded 2 examples for class: Andrei_Mikhnevich\n",
            ">loaded 1 examples for class: Andrei_Nikolishin\n",
            ">loaded 1 examples for class: Andre_Lange\n",
            ">loaded 1 examples for class: Andres_DAlessandro\n",
            ">loaded 1 examples for class: Andres_Manuel_Lopez_Obrador\n",
            ">loaded 1 examples for class: Andre_Smith\n",
            ">loaded 1 examples for class: Andres_Pastrana\n",
            ">loaded 1 examples for class: Andre_Techine\n",
            ">loaded 1 examples for class: Andrew_Bernard\n",
            ">loaded 2 examples for class: Andrew_Bunner\n",
            ">loaded 1 examples for class: Andrew_Caldecott\n",
            ">loaded 2 examples for class: Andrew_Cuomo\n",
            ">loaded 1 examples for class: Andrew_Fastow\n",
            ">loaded 1 examples for class: Andrew_Firestone\n",
            ">loaded 1 examples for class: Andrew_Gilligan\n",
            ">loaded 1 examples for class: Andrew_Jarecki\n",
            ">loaded 1 examples for class: Andrew_Luster\n",
            ">loaded 2 examples for class: Andrew_Niccol\n",
            ">loaded 1 examples for class: Andrew_Sabey\n",
            ">loaded 1 examples for class: Andrew_Shutley\n",
            ">loaded 2 examples for class: Andrew_Weissmann\n",
            ">loaded 1 examples for class: Andrew_Wetzler\n",
            ">loaded 1 examples for class: Andrzej_Tyszkiewicz\n",
            ">loaded 1 examples for class: Andy_Benes\n",
            ">loaded 1 examples for class: Andy_Bryant\n",
            ">loaded 1 examples for class: Andy_Dick\n",
            ">loaded 1 examples for class: Andy_Garcia\n",
            ">loaded 1 examples for class: Andy_Graves\n",
            ">loaded 1 examples for class: Andy_Griffith\n",
            ">loaded 1 examples for class: Andy_Griggs\n",
            ">loaded 2 examples for class: Andy_Hebb\n",
            ">loaded 1 examples for class: Andy_Lau\n",
            ">loaded 1 examples for class: Andy_Madikians\n",
            ">loaded 1 examples for class: Andy_North\n",
            ">loaded 1 examples for class: Andy_Perez\n",
            ">loaded 10 examples for class: Andy_Roddick\n",
            ">loaded 1 examples for class: Andy_Rooney\n",
            ">loaded 1 examples for class: Andy_Warhol\n",
            ">loaded 1 examples for class: Andy_Wisecarver\n",
            ">loaded 1 examples for class: Anette_Hosoi\n",
            ">loaded 1 examples for class: AnFernce_Negron\n",
            ">loaded 1 examples for class: Angela_Alvarado_Rosa\n",
            ">loaded 4 examples for class: Angela_Bassett\n",
            ">loaded 2 examples for class: Angela_Lansbury\n",
            ">loaded 1 examples for class: Angela_Mascia-Frye\n",
            ">loaded 4 examples for class: Angela_Merkel\n",
            ">loaded 1 examples for class: Angelica_Romero\n",
            ">loaded 14 examples for class: Angelina_Jolie\n",
            ">loaded 1 examples for class: Angel_Lockward\n",
            ">loaded 1 examples for class: Angel_Maza\n",
            ">loaded 1 examples for class: Angelo_Genova\n",
            ">loaded 3 examples for class: Angelo_Reyes\n",
            ">loaded 1 examples for class: Angie_Arzola\n",
            ">loaded 1 examples for class: Angie_Martinez\n",
            ">loaded 2 examples for class: Anibal_Ibarra\n",
            ">loaded 1 examples for class: Anil_Ramsook\n",
            ">loaded 1 examples for class: Anita_DeFrantz\n",
            ">loaded 1 examples for class: Anja_Paerson\n",
            ">loaded 1 examples for class: Anjum_Hussain\n",
            ">loaded 1 examples for class: Anna_Chicherova\n",
            ">loaded 1 examples for class: Anna_Faris\n",
            ">loaded 1 examples for class: Anna_Jones\n",
            ">loaded 8 examples for class: Anna_Kournikova\n",
            ">loaded 2 examples for class: Anna_Nicole_Smith\n",
            ">loaded 1 examples for class: Anne_Cavers\n",
            ">loaded 1 examples for class: Anne_Donovan\n",
            ">loaded 1 examples for class: Anne_Heche\n",
            ">loaded 2 examples for class: Anne_Krueger\n",
            ">loaded 2 examples for class: Anneli_Jaatteenmaki\n",
            ">loaded 2 examples for class: Anne_McLellan\n",
            ">loaded 1 examples for class: Anne_ONeil\n",
            ">loaded 2 examples for class: Annette_Bening\n",
            ">loaded 2 examples for class: Annette_Lu\n",
            ">loaded 1 examples for class: Ann_Godbehere\n",
            ">loaded 1 examples for class: Annie_Chaplin\n",
            ">loaded 1 examples for class: Annie-Jeanne_Reynaud\n",
            ">loaded 1 examples for class: Annie_Machon\n",
            ">loaded 1 examples for class: Annika_Sorenstam\n",
            ">loaded 1 examples for class: Ann_Landers\n",
            ">loaded 1 examples for class: Ann_Morgan\n",
            ">loaded 8 examples for class: Ann_Veneman\n",
            ">loaded 1 examples for class: Antanas_Valionis\n",
            ">loaded 1 examples for class: Anthony_Carter\n",
            ">loaded 1 examples for class: Anthony_Corso\n",
            ">loaded 1 examples for class: Anthony_Ervin\n",
            ">loaded 2 examples for class: Anthony_Fauci\n",
            ">loaded 1 examples for class: Anthony_Garotinho\n",
            ">loaded 1 examples for class: Anthony_Hazen\n",
            ">loaded 2 examples for class: Anthony_Hopkins\n",
            ">loaded 2 examples for class: Anthony_LaPaglia\n",
            ">loaded 1 examples for class: Anthony_Lee_Johnson\n",
            ">loaded 1 examples for class: Anthony_Mazur\n",
            ">loaded 1 examples for class: Anthony_Pico\n",
            ">loaded 1 examples for class: Anthony_Pisciotti\n",
            ">loaded 1 examples for class: Anthony_Principi\n",
            ">loaded 1 examples for class: Anthony_Rackauckas\n",
            ">loaded 1 examples for class: Anthony_Scott_Miller\n",
            ">loaded 1 examples for class: Antje_Buschschulte\n",
            ">loaded 1 examples for class: Anton_Balasingham\n",
            ">loaded 4 examples for class: Antonio_Banderas\n",
            ">loaded 1 examples for class: Antonio_Bernardo\n",
            ">loaded 1 examples for class: Antonio_Cassano\n",
            ">loaded 1 examples for class: Antonio_Catania\n",
            ">loaded 1 examples for class: Antonio_Elias_Saca\n",
            ">loaded 6 examples for class: Antonio_Palocci\n",
            ">loaded 2 examples for class: Antonio_Trillanes\n",
            ">loaded 3 examples for class: Antony_Leung\n",
            ">loaded 1 examples for class: Antwun_Echols\n",
            ">loaded 2 examples for class: Anwar_Ibrahim\n",
            ">loaded 1 examples for class: Anzori_Kikalishvili\n",
            ">loaded 1 examples for class: Aparna_Pillai\n",
            ">loaded 1 examples for class: Aram_Adler\n",
            ">loaded 2 examples for class: Arantxa_Sanchez-Vicario\n",
            ">loaded 1 examples for class: Aretha_Franklin\n",
            ">loaded 3 examples for class: Arianna_Huffington\n",
            ">loaded 1 examples for class: Ari_Bousbib\n",
            ">loaded 1 examples for class: Arie_Haan\n",
            ">loaded 52 examples for class: Ariel_Sharon\n",
            ">loaded 9 examples for class: Ari_Fleischer\n",
            ">loaded 1 examples for class: Arif_Mardin\n",
            ">loaded 2 examples for class: Arlen_Specter\n",
            ">loaded 1 examples for class: Armando_Avila_Panchame\n",
            ">loaded 1 examples for class: Armando_Calderon_Sol\n",
            ">loaded 1 examples for class: Armando_Carrillo\n",
            ">loaded 1 examples for class: Armand_Sargen\n",
            ">loaded 4 examples for class: Arminio_Fraga\n",
            ">loaded 2 examples for class: Arnaud_Clement\n",
            ">loaded 1 examples for class: Arnaud_Lagardere\n",
            ">loaded 1 examples for class: Arnie_Boehm\n",
            ">loaded 4 examples for class: Arnoldo_Aleman\n",
            ">loaded 2 examples for class: Arnold_Palmer\n",
            ">loaded 28 examples for class: Arnold_Schwarzenegger\n",
            ">loaded 1 examples for class: Arnold_Scott\n",
            ">loaded 2 examples for class: Aron_Ralston\n",
            ">loaded 2 examples for class: Arsinee_Khanjian\n",
            ">loaded 1 examples for class: Art_Cooper\n",
            ">loaded 2 examples for class: Art_Hoffmann\n",
            ">loaded 3 examples for class: Art_Howe\n",
            ">loaded 1 examples for class: Arthur_Johnson\n",
            ">loaded 1 examples for class: Arthur_Martinez\n",
            ">loaded 1 examples for class: Artieas_Shanks\n",
            ">loaded 1 examples for class: Art_Lopez\n",
            ">loaded 2 examples for class: Arturo_Gatti\n",
            ">loaded 2 examples for class: Arye_Mekel\n",
            ">loaded 2 examples for class: Asa_Hutchinson\n",
            ">loaded 1 examples for class: Ascencion_Barajas\n",
            ">loaded 4 examples for class: Ashanti\n",
            ">loaded 1 examples for class: Ashlea_Talbot\n",
            ">loaded 1 examples for class: Ashley_Judd\n",
            ">loaded 1 examples for class: Ashley_Olsen\n",
            ">loaded 1 examples for class: Ashley_Postell\n",
            ">loaded 1 examples for class: Ashraf_Alasmar\n",
            ">loaded 1 examples for class: Ashraf_Ghani\n",
            ">loaded 2 examples for class: Ashton_Kutcher\n",
            ">loaded 1 examples for class: Asif_Ali_Zardari\n",
            ">loaded 1 examples for class: Asif_Hanif\n",
            ">loaded 1 examples for class: Askar_Akayev\n",
            ">loaded 1 examples for class: Asmaa_Assad\n",
            ">loaded 1 examples for class: Assad_Ahmadi\n",
            ">loaded 1 examples for class: Astou_Ndiaye-Diatta\n",
            ">loaded 1 examples for class: Astrid_Betancourt\n",
            ">loaded 1 examples for class: Astrid_Eyzaguirre\n",
            ">loaded 16 examples for class: Atal_Bihari_Vajpayee\n",
            ">loaded 1 examples for class: Ataollah_Mohajerani\n",
            ">loaded 1 examples for class: Atiabet_Ijan_Amabel\n",
            ">loaded 1 examples for class: Atom_Egoyan\n",
            ">loaded 1 examples for class: Atsushi_Sato\n",
            ">loaded 1 examples for class: Audrey_Lacroix\n",
            ">loaded 1 examples for class: Audrey_Sauret\n",
            ">loaded 3 examples for class: Augustin_Calleri\n",
            ">loaded 2 examples for class: Augusto_Pinochet\n",
            ">loaded 2 examples for class: Augusto_Roa_Bastos\n",
            ">loaded 2 examples for class: Aung_San_Suu_Kyi\n",
            ">loaded 1 examples for class: Austin_Kearns\n",
            ">loaded 1 examples for class: Avril_Lavigne\n",
            ">loaded 1 examples for class: Azmi_Bishara\n",
            ">loaded 3 examples for class: Azra_Akin\n",
            "(859, 160, 160, 3) (859,)\n",
            ">loaded 1 examples for class: Aaron_Peirsol\n",
            ">loaded 1 examples for class: Abdoulaye_Wade\n",
            ">loaded 1 examples for class: Abdullah\n",
            ">loaded 1 examples for class: Abdullah_al-Attiyah\n",
            ">loaded 6 examples for class: Abdullah_Gul\n",
            ">loaded 1 examples for class: Abel_Pacheco\n",
            ">loaded 1 examples for class: Abid_Hamid_Mahmud_Al-Tikriti\n",
            ">loaded 1 examples for class: Adam_Sandler\n",
            ">loaded 1 examples for class: Adel_Al-Jubeir\n",
            ">loaded 1 examples for class: Adolfo_Aguilar_Zinser\n",
            ">loaded 4 examples for class: Adrien_Brody\n",
            ">loaded 1 examples for class: Ahmed_Chalabi\n",
            ">loaded 1 examples for class: Aicha_El_Ouafi\n",
            ">loaded 1 examples for class: Ai_Sugiyama\n",
            ">loaded 1 examples for class: Akbar_Hashemi_Rafsanjani\n",
            ">loaded 1 examples for class: Akhmed_Zakayev\n",
            ">loaded 1 examples for class: Alan_Greenspan\n",
            ">loaded 1 examples for class: Alastair_Campbell\n",
            ">loaded 2 examples for class: Albert_Costa\n",
            ">loaded 1 examples for class: Alec_Baldwin\n",
            ">loaded 1 examples for class: Alejandro_Avila\n",
            ">loaded 13 examples for class: Alejandro_Toledo\n",
            ">loaded 1 examples for class: Aleksander_Kwasniewski\n",
            ">loaded 1 examples for class: Alexander_Downer\n",
            ">loaded 1 examples for class: Alexander_Losyukov\n",
            ">loaded 1 examples for class: Alexandra_Stevenson\n",
            ">loaded 1 examples for class: Alex_Sink\n",
            ">loaded 2 examples for class: Al_Gore\n",
            ">loaded 1 examples for class: Ali_Khamenei\n",
            ">loaded 2 examples for class: Ali_Naimi\n",
            ">loaded 1 examples for class: Allyson_Felix\n",
            ">loaded 1 examples for class: Al_Pacino\n",
            ">loaded 2 examples for class: Al_Sharpton\n",
            ">loaded 1 examples for class: Alvaro_Noboa\n",
            ">loaded 1 examples for class: Alvaro_Silva_Calderon\n",
            ">loaded 11 examples for class: Alvaro_Uribe\n",
            ">loaded 1 examples for class: Amanda_Bynes\n",
            ">loaded 2 examples for class: Amelia_Vega\n",
            ">loaded 7 examples for class: Amelie_Mauresmo\n",
            ">loaded 1 examples for class: Amer_al-Saadi\n",
            ">loaded 2 examples for class: Ana_Guevara\n",
            ">loaded 2 examples for class: Ana_Palacio\n",
            ">loaded 1 examples for class: Anastasia_Myskina\n",
            ">loaded 1 examples for class: Anders_Ebbeson\n",
            ">loaded 1 examples for class: Anders_Fogh_Rasmussen\n",
            ">loaded 12 examples for class: Andre_Agassi\n",
            ">loaded 1 examples for class: Andrew_Weissmann\n",
            ">loaded 5 examples for class: Andy_Roddick\n",
            ">loaded 2 examples for class: Angela_Bassett\n",
            ">loaded 1 examples for class: Angela_Merkel\n",
            ">loaded 6 examples for class: Angelina_Jolie\n",
            ">loaded 1 examples for class: Angelo_Reyes\n",
            ">loaded 1 examples for class: Anibal_Ibarra\n",
            ">loaded 4 examples for class: Anna_Kournikova\n",
            ">loaded 1 examples for class: Anne_Krueger\n",
            ">loaded 1 examples for class: Anne_McLellan\n",
            ">loaded 1 examples for class: Annette_Lu\n",
            ">loaded 3 examples for class: Ann_Veneman\n",
            ">loaded 1 examples for class: Antonio_Banderas\n",
            ">loaded 2 examples for class: Antonio_Palocci\n",
            ">loaded 1 examples for class: Antonio_Trillanes\n",
            ">loaded 1 examples for class: Antony_Leung\n",
            ">loaded 1 examples for class: Arianna_Huffington\n",
            ">loaded 25 examples for class: Ariel_Sharon\n",
            ">loaded 4 examples for class: Ari_Fleischer\n",
            ">loaded 1 examples for class: Arlen_Specter\n",
            ">loaded 2 examples for class: Arminio_Fraga\n",
            ">loaded 1 examples for class: Arnoldo_Aleman\n",
            ">loaded 1 examples for class: Arnold_Palmer\n",
            ">loaded 14 examples for class: Arnold_Schwarzenegger\n",
            ">loaded 1 examples for class: Art_Howe\n",
            ">loaded 1 examples for class: Arturo_Gatti\n",
            ">loaded 1 examples for class: Ashanti\n",
            ">loaded 1 examples for class: Ashton_Kutcher\n",
            ">loaded 8 examples for class: Atal_Bihari_Vajpayee\n",
            ">loaded 1 examples for class: Augustin_Calleri\n",
            ">loaded 1 examples for class: Azra_Akin\n",
            "(195, 160, 160, 3) (195,)\n"
          ]
        }
      ]
    },
    {
      "cell_type": "code",
      "metadata": {
        "id": "toNbeSp8kHh4"
      },
      "source": [
        ""
      ],
      "execution_count": null,
      "outputs": []
    },
    {
      "cell_type": "code",
      "metadata": {
        "id": "8Wg6_hA1IwNT"
      },
      "source": [
        "numpy.savez_compressed('/content/drive/MyDrive/metest/LFW_Dataset/faces-dataset1.npz', trainX, trainy, testX, testy)"
      ],
      "execution_count": null,
      "outputs": []
    },
    {
      "cell_type": "code",
      "metadata": {
        "id": "aNe1DCXP7i7R"
      },
      "source": [
        "a  = 1"
      ],
      "execution_count": null,
      "outputs": []
    },
    {
      "cell_type": "code",
      "metadata": {
        "id": "FpAKFQ0QJAQ_",
        "colab": {
          "base_uri": "https://localhost:8080/"
        },
        "outputId": "a1f5c6c4-cdb4-420f-df95-be798968129c"
      },
      "source": [
        "# load the face dataset\n",
        "data = numpy.load('/content/drive/MyDrive/metest/LFW_Dataset/faces-dataset1.npz')\n",
        "trainX, trainy, testX, testy = data['arr_0'], data['arr_1'], data['arr_2'], data['arr_3']\n",
        "print('Loaded: ', trainX.shape, trainy.shape, testX.shape, testy.shape)"
      ],
      "execution_count": null,
      "outputs": [
        {
          "output_type": "stream",
          "name": "stdout",
          "text": [
            "Loaded:  (859, 160, 160, 3) (859,) (195, 160, 160, 3) (195,)\n"
          ]
        }
      ]
    },
    {
      "cell_type": "code",
      "metadata": {
        "id": "Wf2oH3aN7wG3"
      },
      "source": [
        ""
      ],
      "execution_count": null,
      "outputs": []
    },
    {
      "cell_type": "code",
      "metadata": {
        "colab": {
          "base_uri": "https://localhost:8080/"
        },
        "id": "HVhMDHZJJeO_",
        "outputId": "9a7ed278-f538-4a2f-b4cf-9c9aedfdd384"
      },
      "source": [
        "# load the facenet model\n",
        "model = load_model('/content/drive/MyDrive/metest/Copy of facenet_keras.h5')\n",
        "print('Loaded Model')"
      ],
      "execution_count": null,
      "outputs": [
        {
          "output_type": "stream",
          "name": "stdout",
          "text": [
            "WARNING:tensorflow:No training configuration found in the save file, so the model was *not* compiled. Compile it manually.\n",
            "Loaded Model\n"
          ]
        }
      ]
    },
    {
      "cell_type": "code",
      "metadata": {
        "id": "XG_1xST4LE5P"
      },
      "source": [
        "def get_embedding(model, face_pixels):\n",
        "\t# scale pixel values\n",
        "\tface_pixels = face_pixels.astype('float32')\n",
        "\t# standardize pixel values across channels (global)\n",
        "\tmean, std = face_pixels.mean(), face_pixels.std()\n",
        "\tface_pixels = (face_pixels - mean) / std\n",
        "\t# transform face into one sample\n",
        "\tsamples = numpy.expand_dims(face_pixels, axis=0)\n",
        "\t# make prediction to get embedding\n",
        "\tyhat = model.predict(samples)\n",
        "\treturn yhat[0]\n",
        " "
      ],
      "execution_count": null,
      "outputs": []
    },
    {
      "cell_type": "code",
      "metadata": {
        "colab": {
          "base_uri": "https://localhost:8080/"
        },
        "id": "OOG5njw6JxKU",
        "outputId": "bd0438c4-236c-4361-f438-07965fe132dc"
      },
      "source": [
        "# convert each face in the train set to an embedding\n",
        "newTrainX = list() \n",
        "for face_pixels in trainX:\n",
        "\tembedding = get_embedding(model, face_pixels)\n",
        "\tnewTrainX.append(embedding)\n",
        "newTrainX = asarray(newTrainX)\n",
        "print(newTrainX.shape)"
      ],
      "execution_count": null,
      "outputs": [
        {
          "output_type": "stream",
          "name": "stdout",
          "text": [
            "(859, 128)\n"
          ]
        }
      ]
    },
    {
      "cell_type": "code",
      "metadata": {
        "id": "O_e_1Y6RkrsC"
      },
      "source": [
        ""
      ],
      "execution_count": null,
      "outputs": []
    },
    {
      "cell_type": "code",
      "metadata": {
        "id": "70EKp71CMqNK",
        "colab": {
          "base_uri": "https://localhost:8080/"
        },
        "outputId": "9e62527a-0e80-4873-b822-7b408d6d659f"
      },
      "source": [
        "# convert each face in the test set to an embedding\n",
        "newTestX = list()\n",
        "for face_pixels in testX:\n",
        "\tembedding = get_embedding(model, face_pixels)\n",
        "\tnewTestX.append(embedding)\n",
        "newTestX = asarray(newTestX)\n",
        "print(newTestX.shape)\n",
        "# save arrays to one file in compressed format\n",
        "numpy.savez_compressed('/content/drive/MyDrive/metest/LFW_Dataset/faces-dataset2.npz', newTrainX, trainy, newTestX, testy)"
      ],
      "execution_count": null,
      "outputs": [
        {
          "output_type": "stream",
          "name": "stdout",
          "text": [
            "(195, 128)\n"
          ]
        }
      ]
    },
    {
      "cell_type": "code",
      "metadata": {
        "id": "Vk8jFL7IORTN",
        "colab": {
          "base_uri": "https://localhost:8080/"
        },
        "outputId": "b0532fe0-6339-46ad-aef6-1b30159a884e"
      },
      "source": [
        "# load dataset\n",
        "data = numpy.load('/content/drive/MyDrive/metest/LFW_Dataset/faces-dataset2.npz')\n",
        "trainX, trainy, testX, testy = data['arr_0'], data['arr_1'], data['arr_2'], data['arr_3']\n",
        "print('Dataset: train=%d, test=%d' % (trainX.shape[0], testX.shape[0]))"
      ],
      "execution_count": null,
      "outputs": [
        {
          "output_type": "stream",
          "name": "stdout",
          "text": [
            "Dataset: train=859, test=195\n"
          ]
        }
      ]
    },
    {
      "cell_type": "code",
      "metadata": {
        "id": "_6JY_e8WQZKC"
      },
      "source": [
        "from sklearn import preprocessing\n",
        "from sklearn import svm, metrics"
      ],
      "execution_count": null,
      "outputs": []
    },
    {
      "cell_type": "code",
      "metadata": {
        "id": "Q3nHW2h7PEQc"
      },
      "source": [
        "# normalize input vectors\n",
        "in_encoder = preprocessing.Normalizer(norm='l2')\n",
        "trainX = in_encoder.transform(trainX)\n",
        "testX = in_encoder.transform(testX)"
      ],
      "execution_count": null,
      "outputs": []
    },
    {
      "cell_type": "code",
      "metadata": {
        "id": "MbFm5aRQlhEP"
      },
      "source": [
        ""
      ],
      "execution_count": null,
      "outputs": []
    },
    {
      "cell_type": "code",
      "metadata": {
        "id": "4s5lCWkyPuoy"
      },
      "source": [
        "# label encode targets\n",
        "out_encoder = preprocessing.LabelEncoder()\n",
        "out_encoder.fit(trainy)\n",
        "trainy = out_encoder.transform(trainy)\n",
        "testy = out_encoder.transform(testy)"
      ],
      "execution_count": null,
      "outputs": []
    },
    {
      "cell_type": "code",
      "metadata": {
        "id": "v6TyFngml2yd"
      },
      "source": [
        ""
      ],
      "execution_count": null,
      "outputs": []
    },
    {
      "cell_type": "code",
      "metadata": {
        "id": "3njUPLOcmFB-"
      },
      "source": [
        ""
      ],
      "execution_count": null,
      "outputs": []
    },
    {
      "cell_type": "code",
      "metadata": {
        "colab": {
          "base_uri": "https://localhost:8080/"
        },
        "id": "QoPBYWUyQu1u",
        "outputId": "267420e4-4dd6-4d0c-bc19-fee2e4f53a82"
      },
      "source": [
        "# fit model\n",
        "model = svm.SVC(kernel='linear', probability=True, verbose=True)\n",
        "model.fit(trainX, trainy)"
      ],
      "execution_count": null,
      "outputs": [
        {
          "output_type": "stream",
          "name": "stdout",
          "text": [
            "[LibSVM]"
          ]
        },
        {
          "output_type": "execute_result",
          "data": {
            "text/plain": [
              "SVC(kernel='linear', probability=True, verbose=True)"
            ]
          },
          "metadata": {},
          "execution_count": 20
        }
      ]
    },
    {
      "cell_type": "code",
      "metadata": {
        "id": "Ps77u5KkB0V5"
      },
      "source": [
        ""
      ],
      "execution_count": null,
      "outputs": []
    },
    {
      "cell_type": "code",
      "metadata": {
        "id": "Gqr1IWNfRTZJ",
        "colab": {
          "base_uri": "https://localhost:8080/"
        },
        "outputId": "4b42c82e-57f0-4cca-c472-8a1e70ae0040"
      },
      "source": [
        "# predict\n",
        "yhat_train = model.predict(trainX)\n",
        "yhat_test = model.predict(testX)\n",
        "# score\n",
        "score_train = metrics.accuracy_score(trainy, yhat_train)\n",
        "score_test = metrics.accuracy_score(testy, yhat_test)\n",
        "# summarize\n",
        "print('Accuracy: train=%.3f, test=%.3f' % (score_train*100, score_test*100))"
      ],
      "execution_count": null,
      "outputs": [
        {
          "output_type": "stream",
          "name": "stdout",
          "text": [
            "Accuracy: train=72.759, test=95.897\n"
          ]
        }
      ]
    },
    {
      "cell_type": "code",
      "metadata": {
        "id": "vTaqA5vJ2Fza"
      },
      "source": [
        ""
      ],
      "execution_count": null,
      "outputs": []
    },
    {
      "cell_type": "code",
      "metadata": {
        "id": "AehYyfJ5fZLn"
      },
      "source": [
        ""
      ],
      "execution_count": null,
      "outputs": []
    },
    {
      "cell_type": "code",
      "metadata": {
        "id": "TPb0UAHg5tC_"
      },
      "source": [
        "from sklearn.datasets import make_circles\n",
        "from sklearn.metrics import accuracy_score\n",
        "from sklearn.metrics import precision_score\n",
        "from sklearn.metrics import recall_score\n",
        "from sklearn.metrics import f1_score\n",
        "from sklearn.metrics import cohen_kappa_score\n",
        "from sklearn.metrics import roc_auc_score\n",
        "from sklearn.metrics import confusion_matrix\n",
        "from sklearn.metrics import plot_confusion_matrix"
      ],
      "execution_count": null,
      "outputs": []
    },
    {
      "cell_type": "code",
      "metadata": {
        "id": "9BtZlvH_j4EQ"
      },
      "source": [
        "import matplotlib.pyplot as plt\n",
        "import seaborn as sns\n",
        "from sklearn.metrics import ConfusionMatrixDisplay"
      ],
      "execution_count": null,
      "outputs": []
    },
    {
      "cell_type": "code",
      "metadata": {
        "id": "KjC5Jvtkj2Lx"
      },
      "source": [
        ""
      ],
      "execution_count": null,
      "outputs": []
    },
    {
      "cell_type": "code",
      "metadata": {
        "id": "nikrDcdPfemw",
        "colab": {
          "base_uri": "https://localhost:8080/"
        },
        "outputId": "726405a8-5a71-49b5-b929-a72191cdaef1"
      },
      "source": [
        "confusion_matrix(testy, yhat_test)"
      ],
      "execution_count": null,
      "outputs": [
        {
          "output_type": "execute_result",
          "data": {
            "text/plain": [
              "array([[1, 0, 0, ..., 0, 0, 0],\n",
              "       [0, 1, 0, ..., 0, 0, 0],\n",
              "       [0, 0, 1, ..., 0, 0, 0],\n",
              "       ...,\n",
              "       [0, 0, 0, ..., 8, 0, 0],\n",
              "       [0, 0, 0, ..., 0, 1, 0],\n",
              "       [0, 0, 0, ..., 0, 0, 1]])"
            ]
          },
          "metadata": {},
          "execution_count": 24
        }
      ]
    },
    {
      "cell_type": "code",
      "metadata": {
        "id": "YMahCxiDP7_D",
        "colab": {
          "base_uri": "https://localhost:8080/"
        },
        "outputId": "82acf595-af8c-4f79-f688-40c97186689e"
      },
      "source": [
        "# accuracy: (tp + tn) / (p + n)\n",
        "accuracy = accuracy_score(testy, yhat_test)\n",
        "print('Accuracy: %f' % accuracy)\n",
        "# precision tp / (tp + fp)\n",
        "precision = precision_score(testy, yhat_test,average = \"macro\")\n",
        "print('Precision: %f' % precision)\n",
        "# recall: tp / (tp + fn)\n",
        "recall = recall_score(testy, yhat_test, average = \"macro\" )\n",
        "print('Recall: %f' % recall)\n",
        "# f1: 2 tp / (2 tp + fp + fn)\n",
        "f1 = f1_score(testy, yhat_test, average = \"macro\")\n",
        "print('F1 score: %f' % f1)"
      ],
      "execution_count": null,
      "outputs": [
        {
          "output_type": "stream",
          "name": "stdout",
          "text": [
            "Accuracy: 0.958974\n",
            "Precision: 0.939394\n",
            "Recall: 0.945086\n",
            "F1 score: 0.941728\n"
          ]
        },
        {
          "output_type": "stream",
          "name": "stderr",
          "text": [
            "/usr/local/lib/python3.7/dist-packages/sklearn/metrics/_classification.py:1308: UndefinedMetricWarning: Precision is ill-defined and being set to 0.0 in labels with no predicted samples. Use `zero_division` parameter to control this behavior.\n",
            "  _warn_prf(average, modifier, msg_start, len(result))\n"
          ]
        }
      ]
    },
    {
      "cell_type": "code",
      "metadata": {
        "id": "ul4L5fbaSBK0",
        "colab": {
          "base_uri": "https://localhost:8080/",
          "height": 508
        },
        "outputId": "48ee0241-97d3-457d-ff59-b6c17d2a356b"
      },
      "source": [
        "plt.figure(figsize = (18,8))\n",
        "sns.heatmap(metrics.confusion_matrix(testy, yhat_test), annot = True, xticklabels = numpy.unique(testy), yticklabels = numpy.unique(yhat_test), cmap = 'summer')\n",
        "plt.xlabel('Predicted Labels')\n",
        "plt.ylabel('True Labels')\n",
        "plt.show()"
      ],
      "execution_count": null,
      "outputs": [
        {
          "output_type": "display_data",
          "data": {
            "image/png": "[encoded data removed]",
            "text/plain": [
              "<Figure size 1296x576 with 2 Axes>"
            ]
          },
          "metadata": {
            "needs_background": "light"
          }
        }
      ]
    },
    {
      "cell_type": "code",
      "metadata": {
        "id": "T_xjcYRnSxg2"
      },
      "source": [
        "import numpy as np\n",
        "from sklearn.datasets import load_digits\n",
        "from sklearn.model_selection import ShuffleSplit\n",
        "from sklearn.model_selection import learning_curve"
      ],
      "execution_count": null,
      "outputs": []
    },
    {
      "cell_type": "code",
      "metadata": {
        "id": "GKVrDWwLNfw3"
      },
      "source": [
        "def plot_learning_curve(\n",
        "    estimator,\n",
        "    title,\n",
        "    X,\n",
        "    y,\n",
        "    axes=None,\n",
        "    ylim=None,\n",
        "    cv=None,\n",
        "    n_jobs=None,\n",
        "    train_sizes=np.linspace(0.1, 1.0, 5),\n",
        "):\n",
        "    if axes is None:\n",
        "        _, axes = plt.subplots(1, 3, figsize=(20, 5))\n",
        "\n",
        "    axes[0].set_title(title)\n",
        "    if ylim is not None:\n",
        "        axes[0].set_ylim(*ylim)\n",
        "    axes[0].set_xlabel(\"Training examples\")\n",
        "    axes[0].set_ylabel(\"Score\")\n",
        "\n",
        "    train_sizes, train_scores, test_scores, fit_times, _ = learning_curve(\n",
        "        estimator,\n",
        "        X,\n",
        "        y,\n",
        "        cv=cv,\n",
        "        n_jobs=n_jobs,\n",
        "        train_sizes=train_sizes,\n",
        "        return_times=True,\n",
        "    )\n",
        "    train_scores_mean = np.mean(train_scores, axis=1)\n",
        "    train_scores_std = np.std(train_scores, axis=1)\n",
        "    test_scores_mean = np.mean(test_scores, axis=1)\n",
        "    test_scores_std = np.std(test_scores, axis=1)\n",
        "    fit_times_mean = np.mean(fit_times, axis=1)\n",
        "    fit_times_std = np.std(fit_times, axis=1)\n",
        "\n",
        "    # Plot learning curve\n",
        "    axes[0].grid()\n",
        "    axes[0].fill_between(\n",
        "        train_sizes,\n",
        "        train_scores_mean - train_scores_std,\n",
        "        train_scores_mean + train_scores_std,\n",
        "        alpha=0.1,\n",
        "        color=\"r\",\n",
        "    )\n",
        "    axes[0].fill_between(\n",
        "        train_sizes,\n",
        "        test_scores_mean - test_scores_std,\n",
        "        test_scores_mean + test_scores_std,\n",
        "        alpha=0.1,\n",
        "        color=\"g\",\n",
        "    )\n",
        "    axes[0].plot(\n",
        "        train_sizes, train_scores_mean, \"o-\", color=\"r\", label=\"Training score\"\n",
        "    )\n",
        "    axes[0].plot(\n",
        "        train_sizes, test_scores_mean, \"o-\", color=\"g\", label=\"Cross-validation score\"\n",
        "    )\n",
        "    axes[0].legend(loc=\"best\")\n",
        "\n",
        "    # Plot n_samples vs fit_times\n",
        "    axes[1].grid()\n",
        "    axes[1].plot(train_sizes, fit_times_mean, \"o-\")\n",
        "    axes[1].fill_between(\n",
        "        train_sizes,\n",
        "        fit_times_mean - fit_times_std,\n",
        "        fit_times_mean + fit_times_std,\n",
        "        alpha=0.1,\n",
        "    )\n",
        "    axes[1].set_xlabel(\"Training examples\")\n",
        "    axes[1].set_ylabel(\"fit_times\")\n",
        "    axes[1].set_title(\"Scalability of the model\")\n",
        "\n",
        "    # Plot fit_time vs score\n",
        "    axes[2].grid()\n",
        "    axes[2].plot(fit_times_mean, test_scores_mean, \"o-\")\n",
        "    axes[2].fill_between(\n",
        "        fit_times_mean,\n",
        "        test_scores_mean - test_scores_std,\n",
        "        test_scores_mean + test_scores_std,\n",
        "        alpha=0.1,\n",
        "    )\n",
        "    axes[2].set_xlabel(\"fit_times\")\n",
        "    axes[2].set_ylabel(\"Score\")\n",
        "    axes[2].set_title(\"Performance of the model\")\n",
        "\n",
        "    return plt\n"
      ],
      "execution_count": null,
      "outputs": []
    },
    {
      "cell_type": "code",
      "metadata": {
        "id": "UpYY4K_5NjcC",
        "colab": {
          "base_uri": "https://localhost:8080/",
          "height": 409
        },
        "outputId": "72a12275-8d54-41e2-d37b-4b108c86da86"
      },
      "source": [
        "#plot graph\n",
        "X, y = load_digits(return_X_y=True)\n",
        "title = r\"Learning Curves\"\n",
        "plot_learning_curve(\n",
        "    model, title, trainX, trainy\n",
        ")\n",
        "\n",
        "plt.show()"
      ],
      "execution_count": null,
      "outputs": [
        {
          "output_type": "stream",
          "name": "stderr",
          "text": [
            "/usr/local/lib/python3.7/dist-packages/sklearn/model_selection/_split.py:680: UserWarning: The least populated class in y has only 1 members, which is less than n_splits=5.\n",
            "  UserWarning,\n"
          ]
        },
        {
          "output_type": "stream",
          "name": "stdout",
          "text": [
            "[LibSVM][LibSVM][LibSVM][LibSVM][LibSVM][LibSVM][LibSVM][LibSVM][LibSVM][LibSVM][LibSVM][LibSVM][LibSVM][LibSVM][LibSVM][LibSVM][LibSVM][LibSVM][LibSVM][LibSVM][LibSVM][LibSVM][LibSVM][LibSVM][LibSVM]"
          ]
        },
        {
          "output_type": "display_data",
          "data": {
            "image/png": "[encoded data removed]",
            "text/plain": [
              "<Figure size 1440x360 with 3 Axes>"
            ]
          },
          "metadata": {
            "needs_background": "light"
          }
        }
      ]
    },
    {
      "cell_type": "code",
      "metadata": {
        "id": "_Q-TkUiKNlBW"
      },
      "source": [
        ""
      ],
      "execution_count": null,
      "outputs": []
    },
    {
      "cell_type": "code",
      "metadata": {
        "id": "kX7RVgkRNksc"
      },
      "source": [
        ""
      ],
      "execution_count": null,
      "outputs": []
    }
  ]
}